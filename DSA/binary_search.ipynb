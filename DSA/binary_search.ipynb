{
 "cells": [
  {
   "cell_type": "code",
   "execution_count": 7,
   "metadata": {},
   "outputs": [
    {
     "name": "stdout",
     "output_type": "stream",
     "text": [
      "[1, 2, 3, 4, 5, 6, 7, 8, 9, 10, 11]\n",
      "<class 'list'>\n",
      "['__add__', '__class__', '__class_getitem__', '__contains__', '__delattr__', '__delitem__', '__dir__', '__doc__', '__eq__', '__format__', '__ge__', '__getattribute__', '__getitem__', '__gt__', '__hash__', '__iadd__', '__imul__', '__init__', '__init_subclass__', '__iter__', '__le__', '__len__', '__lt__', '__mul__', '__ne__', '__new__', '__reduce__', '__reduce_ex__', '__repr__', '__reversed__', '__rmul__', '__setattr__', '__setitem__', '__sizeof__', '__str__', '__subclasshook__', 'append', 'clear', 'copy', 'count', 'extend', 'index', 'insert', 'pop', 'remove', 'reverse', 'sort']\n"
     ]
    }
   ],
   "source": [
    "db = [1,2,3,4,5]\n",
    "db1 = list(range(1, 12))\n",
    "print(db1)\n",
    "print(type(db1))\n",
    "print(dir(db1))"
   ]
  },
  {
   "cell_type": "code",
   "execution_count": 4,
   "metadata": {},
   "outputs": [
    {
     "data": {
      "text/plain": [
       "5"
      ]
     },
     "execution_count": 4,
     "metadata": {},
     "output_type": "execute_result"
    }
   ],
   "source": [
    "import math\n",
    "# middle_pos is a pointer\n",
    "middle_pos = math.floor(len(db1) / 2)\n",
    "middle_pos"
   ]
  },
  {
   "cell_type": "code",
   "execution_count": 9,
   "metadata": {},
   "outputs": [
    {
     "data": {
      "text/plain": [
       "5"
      ]
     },
     "execution_count": 9,
     "metadata": {},
     "output_type": "execute_result"
    }
   ],
   "source": [
    "# index: search data\n",
    "# lineas search : O(n)\n",
    "db1.index(6)"
   ]
  },
  {
   "cell_type": "code",
   "execution_count": 56,
   "metadata": {},
   "outputs": [],
   "source": [
    "def binary_search(db1, value):\n",
    "    start = 0\n",
    "    end = len(db1)-1\n",
    "    \n",
    "    \n",
    "    while start <= end:\n",
    "        middle = (start + end) // 2\n",
    "        print(\"Start: \" + str(start) + \" End: \" + str(end) + \" Middle: \" +  str(middle))\n",
    "        if db1[middle] == value:\n",
    "            return middle\n",
    "        elif db1[middle] > value:\n",
    "            end = middle -1\n",
    "        elif db1[middle] < value:\n",
    "            start = middle +1\n",
    "        else:\n",
    "            return \"NOT FOUND !\"\n",
    "        "
   ]
  },
  {
   "cell_type": "code",
   "execution_count": 58,
   "metadata": {},
   "outputs": [
    {
     "name": "stdout",
     "output_type": "stream",
     "text": [
      "Start: 0 End: 10 Middle: 5\n",
      "Start: 6 End: 10 Middle: 8\n",
      "Start: 9 End: 10 Middle: 9\n",
      "Start: 10 End: 10 Middle: 10\n"
     ]
    }
   ],
   "source": [
    "binary_search(db1, 52)"
   ]
  },
  {
   "cell_type": "code",
   "execution_count": null,
   "metadata": {},
   "outputs": [],
   "source": []
  }
 ],
 "metadata": {
  "kernelspec": {
   "display_name": "Python 3",
   "language": "python",
   "name": "python3"
  },
  "language_info": {
   "codemirror_mode": {
    "name": "ipython",
    "version": 3
   },
   "file_extension": ".py",
   "mimetype": "text/x-python",
   "name": "python",
   "nbconvert_exporter": "python",
   "pygments_lexer": "ipython3",
   "version": "3.9.1"
  }
 },
 "nbformat": 4,
 "nbformat_minor": 4
}
