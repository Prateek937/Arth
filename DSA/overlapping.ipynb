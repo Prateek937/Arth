{
 "cells": [
  {
   "cell_type": "code",
   "execution_count": 26,
   "metadata": {},
   "outputs": [
    {
     "data": {
      "text/plain": "'\\n    m2 = m0 + m1\\n    m3 = m2 + m1\\n    m4 = m3 + m2\\n    m5 = m4 + m3\\n'"
     },
     "execution_count": 26,
     "metadata": {},
     "output_type": "execute_result"
    }
   ],
   "source": [
    "# Divide and Conquer approach\n",
    "def find_rabbit(n):\n",
    "    if n == 0:\n",
    "        m0 = 0\n",
    "        return m0\n",
    "    elif n == 1:\n",
    "        m1 = 1\n",
    "        return m1    \n",
    "    \n",
    "    return find_rabbit(n-1) + find_rabbit(n-2) \n",
    "\n",
    "\n",
    "'''\n",
    "    m2 = m0 + m1\n",
    "    m3 = m2 + m1\n",
    "    m4 = m3 + m2\n",
    "    m5 = m4 + m3\n",
    "'''\n"
   ]
  },
  {
   "cell_type": "code",
   "execution_count": 12,
   "metadata": {},
   "outputs": [
    {
     "name": "stdout",
     "output_type": "stream",
     "text": [
      "702 ms ± 103 ms per loop (mean ± std. dev. of 7 runs, 1 loop each)\n"
     ]
    }
   ],
   "source": [
    "%timeit find_rabbit(30)"
   ]
  },
  {
   "cell_type": "code",
   "execution_count": 5,
   "metadata": {},
   "outputs": [],
   "source": [
    "import sys"
   ]
  },
  {
   "cell_type": "code",
   "execution_count": 7,
   "metadata": {},
   "outputs": [
    {
     "data": {
      "text/plain": "3000"
     },
     "execution_count": 7,
     "metadata": {},
     "output_type": "execute_result"
    }
   ],
   "source": [
    "sys.getrecursionlimit()"
   ]
  },
  {
   "cell_type": "code",
   "execution_count": 15,
   "metadata": {},
   "outputs": [
    {
     "data": {
      "text/plain": "'\\nTop Down approach (Memorization)\\n'"
     },
     "execution_count": 15,
     "metadata": {},
     "output_type": "execute_result"
    }
   ],
   "source": [
    "'''\n",
    "Top Down approach (Memorization)\n",
    "'''"
   ]
  },
  {
   "cell_type": "code",
   "execution_count": 16,
   "metadata": {},
   "outputs": [],
   "source": [
    "memo = {}"
   ]
  },
  {
   "cell_type": "code",
   "execution_count": 17,
   "metadata": {},
   "outputs": [
    {
     "data": {
      "text/plain": "dict"
     },
     "execution_count": 17,
     "metadata": {},
     "output_type": "execute_result"
    }
   ],
   "source": [
    "type(memo)"
   ]
  },
  {
   "cell_type": "code",
   "execution_count": 29,
   "metadata": {},
   "outputs": [],
   "source": [
    "def find_rabbit(n, memo):\n",
    "    if n == 0:\n",
    "        m0 = 0\n",
    "        return m0\n",
    "    elif n == 1:\n",
    "        m1 = 1\n",
    "        return m1    \n",
    "    # check if the output already exits or not\n",
    "    if not n in memo:\n",
    "        memo[n] = find_rabbit(n-1, memo) + find_rabbit(n-2, memo)\n",
    "\n",
    "    return memo[n] "
   ]
  },
  {
   "cell_type": "code",
   "execution_count": 30,
   "metadata": {},
   "outputs": [
    {
     "data": {
      "text/plain": "{2: 1,\n 3: 2,\n 4: 3,\n 5: 5,\n 6: 8,\n 7: 13,\n 8: 21,\n 9: 34,\n 10: 55,\n 11: 89,\n 12: 144,\n 13: 233,\n 14: 377,\n 15: 610,\n 16: 987,\n 17: 1597,\n 18: 2584,\n 19: 4181,\n 20: 6765,\n 21: 10946,\n 22: 17711,\n 23: 28657,\n 24: 46368,\n 25: 75025,\n 26: 121393,\n 27: 196418,\n 28: 317811,\n 29: 514229,\n 30: 832040,\n 31: 1346269,\n 32: 2178309,\n 33: 3524578,\n 34: 5702887,\n 35: 9227465,\n 36: 14930352,\n 37: 24157817,\n 38: 39088169,\n 39: 63245986,\n 40: 102334155,\n 41: 165580141,\n 42: 267914296,\n 43: 433494437,\n 44: 701408733,\n 45: 1134903170,\n 46: 1836311903,\n 47: 2971215073,\n 48: 4807526976,\n 49: 7778742049,\n 50: 12586269025,\n 51: 20365011074,\n 52: 32951280099,\n 53: 53316291173,\n 54: 86267571272,\n 55: 139583862445,\n 56: 225851433717,\n 57: 365435296162,\n 58: 591286729879,\n 59: 956722026041,\n 60: 1548008755920,\n 61: 2504730781961,\n 62: 4052739537881,\n 63: 6557470319842,\n 64: 10610209857723,\n 65: 17167680177565,\n 66: 27777890035288,\n 67: 44945570212853,\n 68: 72723460248141,\n 69: 117669030460994,\n 70: 190392490709135,\n 71: 308061521170129,\n 72: 498454011879264,\n 73: 806515533049393,\n 74: 1304969544928657,\n 75: 2111485077978050,\n 76: 3416454622906707,\n 77: 5527939700884757,\n 78: 8944394323791464,\n 79: 14472334024676221,\n 80: 23416728348467685,\n 81: 37889062373143906,\n 82: 61305790721611591,\n 83: 99194853094755497,\n 84: 160500643816367088,\n 85: 259695496911122585,\n 86: 420196140727489673,\n 87: 679891637638612258,\n 88: 1100087778366101931,\n 89: 1779979416004714189,\n 90: 2880067194370816120,\n 91: 4660046610375530309,\n 92: 7540113804746346429,\n 93: 12200160415121876738,\n 94: 19740274219868223167,\n 95: 31940434634990099905,\n 96: 51680708854858323072,\n 97: 83621143489848422977,\n 98: 135301852344706746049,\n 99: 218922995834555169026,\n 100: 354224848179261915075}"
     },
     "execution_count": 30,
     "metadata": {},
     "output_type": "execute_result"
    }
   ],
   "source": [
    "memo"
   ]
  },
  {
   "cell_type": "code",
   "execution_count": 36,
   "metadata": {},
   "outputs": [
    {
     "data": {
      "text/plain": "222232244629420445529739893461909967206666939096499764990979600"
     },
     "execution_count": 36,
     "metadata": {},
     "output_type": "execute_result"
    }
   ],
   "source": [
    "find_rabbit(300, memo)"
   ]
  },
  {
   "cell_type": "code",
   "execution_count": 32,
   "metadata": {},
   "outputs": [
    {
     "data": {
      "text/plain": "{2: 1,\n 3: 2,\n 4: 3,\n 5: 5,\n 6: 8,\n 7: 13,\n 8: 21,\n 9: 34,\n 10: 55,\n 11: 89,\n 12: 144,\n 13: 233,\n 14: 377,\n 15: 610,\n 16: 987,\n 17: 1597,\n 18: 2584,\n 19: 4181,\n 20: 6765,\n 21: 10946,\n 22: 17711,\n 23: 28657,\n 24: 46368,\n 25: 75025,\n 26: 121393,\n 27: 196418,\n 28: 317811,\n 29: 514229,\n 30: 832040,\n 31: 1346269,\n 32: 2178309,\n 33: 3524578,\n 34: 5702887,\n 35: 9227465,\n 36: 14930352,\n 37: 24157817,\n 38: 39088169,\n 39: 63245986,\n 40: 102334155,\n 41: 165580141,\n 42: 267914296,\n 43: 433494437,\n 44: 701408733,\n 45: 1134903170,\n 46: 1836311903,\n 47: 2971215073,\n 48: 4807526976,\n 49: 7778742049,\n 50: 12586269025,\n 51: 20365011074,\n 52: 32951280099,\n 53: 53316291173,\n 54: 86267571272,\n 55: 139583862445,\n 56: 225851433717,\n 57: 365435296162,\n 58: 591286729879,\n 59: 956722026041,\n 60: 1548008755920,\n 61: 2504730781961,\n 62: 4052739537881,\n 63: 6557470319842,\n 64: 10610209857723,\n 65: 17167680177565,\n 66: 27777890035288,\n 67: 44945570212853,\n 68: 72723460248141,\n 69: 117669030460994,\n 70: 190392490709135,\n 71: 308061521170129,\n 72: 498454011879264,\n 73: 806515533049393,\n 74: 1304969544928657,\n 75: 2111485077978050,\n 76: 3416454622906707,\n 77: 5527939700884757,\n 78: 8944394323791464,\n 79: 14472334024676221,\n 80: 23416728348467685,\n 81: 37889062373143906,\n 82: 61305790721611591,\n 83: 99194853094755497,\n 84: 160500643816367088,\n 85: 259695496911122585,\n 86: 420196140727489673,\n 87: 679891637638612258,\n 88: 1100087778366101931,\n 89: 1779979416004714189,\n 90: 2880067194370816120,\n 91: 4660046610375530309,\n 92: 7540113804746346429,\n 93: 12200160415121876738,\n 94: 19740274219868223167,\n 95: 31940434634990099905,\n 96: 51680708854858323072,\n 97: 83621143489848422977,\n 98: 135301852344706746049,\n 99: 218922995834555169026,\n 100: 354224848179261915075}"
     },
     "execution_count": 32,
     "metadata": {},
     "output_type": "execute_result"
    }
   ],
   "source": [
    "memo"
   ]
  },
  {
   "cell_type": "code",
   "execution_count": 33,
   "metadata": {},
   "outputs": [
    {
     "name": "stdout",
     "output_type": "stream",
     "text": [
      "The slowest run took 13.47 times longer than the fastest. This could mean that an intermediate result is being cached.\n",
      "907 ns ± 948 ns per loop (mean ± std. dev. of 7 runs, 1000000 loops each)\n"
     ]
    }
   ],
   "source": [
    "%timeit find_rabbit(30, memo)"
   ]
  },
  {
   "cell_type": "code",
   "execution_count": 38,
   "metadata": {},
   "outputs": [
    {
     "data": {
      "text/plain": "'\\nBottom up approach(Tabulation)\\n'"
     },
     "execution_count": 38,
     "metadata": {},
     "output_type": "execute_result"
    }
   ],
   "source": [
    "'''\n",
    "Bottom up approach(Tabulation)\n",
    "'''"
   ]
  },
  {
   "cell_type": "code",
   "execution_count": 39,
   "metadata": {},
   "outputs": [],
   "source": [
    "def tabulation(n):\n",
    "    tb = [0, 1]\n",
    "    for i in range(2, n+1):\n",
    "        tb.append(tb[i-1] + tb[i-2])\n",
    "    return tb[n]  "
   ]
  },
  {
   "cell_type": "code",
   "execution_count": 40,
   "metadata": {},
   "outputs": [
    {
     "data": {
      "text/plain": "8"
     },
     "execution_count": 40,
     "metadata": {},
     "output_type": "execute_result"
    }
   ],
   "source": [
    "tabulation(6)"
   ]
  },
  {
   "cell_type": "code",
   "execution_count": 43,
   "metadata": {},
   "outputs": [
    {
     "name": "stdout",
     "output_type": "stream",
     "text": [
      "5 µs ± 1.68 µs per loop (mean ± std. dev. of 7 runs, 1000000 loops each)\n"
     ]
    }
   ],
   "source": [
    "%timeit tabulation(6)"
   ]
  },
  {
   "cell_type": "code",
   "execution_count": null,
   "metadata": {},
   "outputs": [],
   "source": []
  }
 ],
 "metadata": {
  "kernelspec": {
   "display_name": "Python 3.9.6 64-bit ('base': conda)",
   "name": "python396jvsc74a57bd0767d51c1340bd893661ea55ea3124f6de3c7a262a8b4abca0554b478b1e2ff90"
  },
  "language_info": {
   "codemirror_mode": {
    "name": "ipython",
    "version": 3
   },
   "file_extension": ".py",
   "mimetype": "text/x-python",
   "name": "python",
   "nbconvert_exporter": "python",
   "pygments_lexer": "ipython3",
   "version": "3.9.6"
  },
  "metadata": {
   "interpreter": {
    "hash": "767d51c1340bd893661ea55ea3124f6de3c7a262a8b4abca0554b478b1e2ff90"
   }
  },
  "orig_nbformat": 2
 },
 "nbformat": 4,
 "nbformat_minor": 2
}