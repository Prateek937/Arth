{
 "metadata": {
  "language_info": {
   "codemirror_mode": {
    "name": "ipython",
    "version": 3
   },
   "file_extension": ".py",
   "mimetype": "text/x-python",
   "name": "python",
   "nbconvert_exporter": "python",
   "pygments_lexer": "ipython3",
   "version": "3.9.5"
  },
  "orig_nbformat": 2,
  "kernelspec": {
   "name": "python395jvsc74a57bd0767d51c1340bd893661ea55ea3124f6de3c7a262a8b4abca0554b478b1e2ff90",
   "display_name": "Python 3.9.5 64-bit ('base': conda)"
  },
  "metadata": {
   "interpreter": {
    "hash": "767d51c1340bd893661ea55ea3124f6de3c7a262a8b4abca0554b478b1e2ff90"
   }
  }
 },
 "nbformat": 4,
 "nbformat_minor": 2,
 "cells": [
  {
   "cell_type": "code",
   "execution_count": 99,
   "metadata": {},
   "outputs": [],
   "source": [
    "from collections import defaultdict"
   ]
  },
  {
   "cell_type": "code",
   "execution_count": 100,
   "metadata": {},
   "outputs": [],
   "source": [
    " d = defaultdict(list)"
   ]
  },
  {
   "cell_type": "code",
   "execution_count": 101,
   "metadata": {},
   "outputs": [
    {
     "output_type": "execute_result",
     "data": {
      "text/plain": [
       "collections.defaultdict"
      ]
     },
     "metadata": {},
     "execution_count": 101
    }
   ],
   "source": [
    "type(d)"
   ]
  },
  {
   "cell_type": "code",
   "execution_count": 102,
   "metadata": {},
   "outputs": [],
   "source": [
    "d[0] = \"1\""
   ]
  },
  {
   "cell_type": "code",
   "execution_count": 103,
   "metadata": {},
   "outputs": [],
   "source": [
    "for i in range(10):\n",
    "    d[i] = [i*i]"
   ]
  },
  {
   "cell_type": "code",
   "execution_count": 104,
   "metadata": {},
   "outputs": [
    {
     "output_type": "execute_result",
     "data": {
      "text/plain": [
       "defaultdict(list,\n",
       "            {0: [0],\n",
       "             1: [1],\n",
       "             2: [4],\n",
       "             3: [9],\n",
       "             4: [16],\n",
       "             5: [25],\n",
       "             6: [36],\n",
       "             7: [49],\n",
       "             8: [64],\n",
       "             9: [81]})"
      ]
     },
     "metadata": {},
     "execution_count": 104
    }
   ],
   "source": [
    "d"
   ]
  },
  {
   "cell_type": "code",
   "execution_count": 105,
   "metadata": {},
   "outputs": [],
   "source": [
    "class Graph:\n",
    "    def __init__(self, numberOfVertices):\n",
    "        self.numberOfVertices = numberOfVertices\n",
    "        self.graph = defaultdict(list)\n",
    "\n",
    "    def addEdge(self, vertex, edge):\n",
    "        self.graph[vertex].append(edge)\n",
    "\n",
    "    def topologicalSortHelper(self, node, visited, stack):\n",
    "        visited.append(node)\n",
    "        for i in self.graph[node]:\n",
    "            if i not in visited:\n",
    "                self.topologicalSortHelper(i, visited, stack)\n",
    "        stack.insert(0, node)\n",
    "\n",
    "    def topologicalSort(self):\n",
    "        visited = []\n",
    "        stack = []\n",
    "        for k in list(self.graph):\n",
    "            if k not in visited:\n",
    "                self.topologicalSortHelper(k, visited, stack)\n",
    "        return stack"
   ]
  },
  {
   "cell_type": "code",
   "execution_count": 106,
   "metadata": {},
   "outputs": [],
   "source": [
    "subject = Graph(8)"
   ]
  },
  {
   "cell_type": "code",
   "execution_count": 107,
   "metadata": {},
   "outputs": [
    {
     "output_type": "execute_result",
     "data": {
      "text/plain": [
       "8"
      ]
     },
     "metadata": {},
     "execution_count": 107
    }
   ],
   "source": [
    "subject.numberOfVertices"
   ]
  },
  {
   "cell_type": "code",
   "execution_count": 108,
   "metadata": {},
   "outputs": [
    {
     "output_type": "execute_result",
     "data": {
      "text/plain": [
       "defaultdict(list, {})"
      ]
     },
     "metadata": {},
     "execution_count": 108
    }
   ],
   "source": [
    "# Graph is empty right now\n",
    "subject.graph"
   ]
  },
  {
   "cell_type": "code",
   "execution_count": 109,
   "metadata": {},
   "outputs": [],
   "source": [
    "subject.addEdge(\"A\", \"C\")"
   ]
  },
  {
   "cell_type": "code",
   "execution_count": 110,
   "metadata": {},
   "outputs": [
    {
     "output_type": "execute_result",
     "data": {
      "text/plain": [
       "defaultdict(list, {'A': ['C']})"
      ]
     },
     "metadata": {},
     "execution_count": 110
    }
   ],
   "source": [
    "subject.graph"
   ]
  },
  {
   "cell_type": "code",
   "execution_count": 111,
   "metadata": {},
   "outputs": [],
   "source": [
    "subject.addEdge(\"C\", \"E\")"
   ]
  },
  {
   "cell_type": "code",
   "execution_count": 112,
   "metadata": {},
   "outputs": [
    {
     "output_type": "execute_result",
     "data": {
      "text/plain": [
       "defaultdict(list, {'A': ['C'], 'C': ['E']})"
      ]
     },
     "metadata": {},
     "execution_count": 112
    }
   ],
   "source": [
    "subject.graph"
   ]
  },
  {
   "cell_type": "code",
   "execution_count": 113,
   "metadata": {},
   "outputs": [],
   "source": [
    "subject.addEdge(\"E\", \"H\")\n",
    "subject.addEdge(\"E\", \"F\")\n",
    "subject.addEdge(\"F\", \"G\")\n",
    "subject.addEdge(\"B\", \"D\")\n",
    "subject.addEdge(\"B\", \"C\")\n",
    "subject.addEdge(\"D\", \"F\")"
   ]
  },
  {
   "cell_type": "code",
   "execution_count": 114,
   "metadata": {},
   "outputs": [
    {
     "output_type": "execute_result",
     "data": {
      "text/plain": [
       "defaultdict(list,\n",
       "            {'A': ['C'],\n",
       "             'C': ['E'],\n",
       "             'E': ['H', 'F'],\n",
       "             'F': ['G'],\n",
       "             'B': ['D', 'C'],\n",
       "             'D': ['F']})"
      ]
     },
     "metadata": {},
     "execution_count": 114
    }
   ],
   "source": [
    "subject.graph"
   ]
  },
  {
   "cell_type": "code",
   "execution_count": 115,
   "metadata": {},
   "outputs": [
    {
     "output_type": "execute_result",
     "data": {
      "text/plain": [
       "['B', 'D', 'A', 'C', 'E', 'F', 'G', 'H']"
      ]
     },
     "metadata": {},
     "execution_count": 115
    }
   ],
   "source": [
    "#topological sort\n",
    "subject.topologicalSort()"
   ]
  },
  {
   "cell_type": "code",
   "execution_count": null,
   "metadata": {},
   "outputs": [],
   "source": []
  }
 ]
}