{
 "cells": [
  {
   "cell_type": "code",
   "execution_count": 1,
   "id": "60806659",
   "metadata": {},
   "outputs": [],
   "source": [
    "a = [1,2,3,4,5]"
   ]
  },
  {
   "cell_type": "code",
   "execution_count": 2,
   "id": "b43a1808",
   "metadata": {},
   "outputs": [
    {
     "data": {
      "text/plain": [
       "list"
      ]
     },
     "execution_count": 2,
     "metadata": {},
     "output_type": "execute_result"
    }
   ],
   "source": [
    "type(a)"
   ]
  },
  {
   "cell_type": "code",
   "execution_count": 9,
   "id": "17070c84",
   "metadata": {},
   "outputs": [
    {
     "data": {
      "text/plain": [
       "'0x7f9f0463fb80'"
      ]
     },
     "execution_count": 9,
     "metadata": {},
     "output_type": "execute_result"
    }
   ],
   "source": [
    "hex(id(a))"
   ]
  },
  {
   "cell_type": "code",
   "execution_count": 8,
   "id": "d5d3320c",
   "metadata": {},
   "outputs": [
    {
     "data": {
      "text/plain": [
       "'0x7f9f09dd5930'"
      ]
     },
     "execution_count": 8,
     "metadata": {},
     "output_type": "execute_result"
    }
   ],
   "source": [
    "# printing address\n",
    "hex(id(a[0]))"
   ]
  },
  {
   "cell_type": "code",
   "execution_count": 4,
   "id": "4d0f36cd",
   "metadata": {},
   "outputs": [
    {
     "data": {
      "text/plain": [
       "'0x7f9f09dd5950'"
      ]
     },
     "execution_count": 4,
     "metadata": {},
     "output_type": "execute_result"
    }
   ],
   "source": [
    "hex(id(a[1]))"
   ]
  },
  {
   "cell_type": "code",
   "execution_count": 5,
   "id": "a3cfcd83",
   "metadata": {},
   "outputs": [
    {
     "data": {
      "text/plain": [
       "'0x7f9f09dd5970'"
      ]
     },
     "execution_count": 5,
     "metadata": {},
     "output_type": "execute_result"
    }
   ],
   "source": [
    "hex(id(a[2]))"
   ]
  },
  {
   "cell_type": "code",
   "execution_count": 10,
   "id": "ade0203b",
   "metadata": {},
   "outputs": [
    {
     "name": "stdout",
     "output_type": "stream",
     "text": [
      "1\n",
      "0x7f9f09dd5930\n",
      "2\n",
      "0x7f9f09dd5950\n",
      "3\n",
      "0x7f9f09dd5970\n",
      "4\n",
      "0x7f9f09dd5990\n",
      "5\n",
      "0x7f9f09dd59b0\n"
     ]
    }
   ],
   "source": [
    "# traversal: O(n)\n",
    "#access: O(1)\n",
    "\n",
    "for i in a:\n",
    "    print(i)\n",
    "    print(hex(id(i)))"
   ]
  },
  {
   "cell_type": "code",
   "execution_count": null,
   "id": "9e5dc721",
   "metadata": {},
   "outputs": [],
   "source": []
  }
 ],
 "metadata": {
  "kernelspec": {
   "display_name": "Python 3",
   "language": "python",
   "name": "python3"
  },
  "language_info": {
   "codemirror_mode": {
    "name": "ipython",
    "version": 3
   },
   "file_extension": ".py",
   "mimetype": "text/x-python",
   "name": "python",
   "nbconvert_exporter": "python",
   "pygments_lexer": "ipython3",
   "version": "3.9.2"
  }
 },
 "nbformat": 4,
 "nbformat_minor": 5
}
