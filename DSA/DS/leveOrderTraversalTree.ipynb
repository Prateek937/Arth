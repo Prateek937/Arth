{
 "cells": [
  {
   "cell_type": "code",
   "execution_count": 1,
   "id": "737a451a-d53c-4048-bfd4-c8f25203e0d7",
   "metadata": {},
   "outputs": [],
   "source": [
    "# Linked list\n",
    "class TreeNode:\n",
    "    def __init__(self, data):\n",
    "        self.data = data\n",
    "        self.leftChild = None\n",
    "        self.rightChild = None"
   ]
  },
  {
   "cell_type": "code",
   "execution_count": 2,
   "id": "aa49d099-02ea-4556-985c-b5f97952bdb2",
   "metadata": {},
   "outputs": [],
   "source": [
    "rootNode = TreeNode(\"Drinks\")"
   ]
  },
  {
   "cell_type": "code",
   "execution_count": 3,
   "id": "29110053-cee1-4ff6-814a-fcf3b922efa5",
   "metadata": {},
   "outputs": [
    {
     "data": {
      "text/plain": [
       "<__main__.TreeNode at 0x7f6f88101730>"
      ]
     },
     "execution_count": 3,
     "metadata": {},
     "output_type": "execute_result"
    }
   ],
   "source": [
    "rootNode"
   ]
  },
  {
   "cell_type": "code",
   "execution_count": 4,
   "id": "21c79a8c-7d6b-476f-a712-d0f0a6348139",
   "metadata": {},
   "outputs": [],
   "source": [
    "h = TreeNode(\"Hot\")"
   ]
  },
  {
   "cell_type": "code",
   "execution_count": 5,
   "id": "5d2355d1-6632-4fe8-8776-1920defec77e",
   "metadata": {},
   "outputs": [],
   "source": [
    "c = TreeNode(\"Cold\")"
   ]
  },
  {
   "cell_type": "code",
   "execution_count": 6,
   "id": "5d6c7d13-94e3-44d1-a6b0-b5e0519e2536",
   "metadata": {},
   "outputs": [],
   "source": [
    "tea = TreeNode(\"tea\")"
   ]
  },
  {
   "cell_type": "code",
   "execution_count": 7,
   "id": "b6b39f9b-a4b2-43d5-86fe-636322ce5f1a",
   "metadata": {},
   "outputs": [],
   "source": [
    "coffee = TreeNode(\"coffee\")"
   ]
  },
  {
   "cell_type": "code",
   "execution_count": 8,
   "id": "d297171f-0a78-4684-85e6-e3c33ca40683",
   "metadata": {},
   "outputs": [],
   "source": [
    "rootNode.leftChild = h"
   ]
  },
  {
   "cell_type": "code",
   "execution_count": 9,
   "id": "3ebc397c-eae0-4b0e-967f-c2571188fcdf",
   "metadata": {},
   "outputs": [],
   "source": [
    "rootNode.rightChild = c"
   ]
  },
  {
   "cell_type": "code",
   "execution_count": 10,
   "id": "987710cd-a9d2-45db-ba69-044a1fac5916",
   "metadata": {},
   "outputs": [],
   "source": [
    "h.leftChild = tea"
   ]
  },
  {
   "cell_type": "code",
   "execution_count": 11,
   "id": "d7d7c971-fa15-4d13-a235-3a7aed1baf24",
   "metadata": {},
   "outputs": [],
   "source": [
    "h.rightChild = coffee"
   ]
  },
  {
   "cell_type": "code",
   "execution_count": 12,
   "id": "1fa9277e-8ccb-4f6c-97da-fa2ae00a543e",
   "metadata": {},
   "outputs": [],
   "source": [
    "from collections import deque"
   ]
  },
  {
   "cell_type": "code",
   "execution_count": 13,
   "id": "7c3d26ec-ebeb-47f7-9cc0-094fc950f605",
   "metadata": {},
   "outputs": [],
   "source": [
    "# we \n",
    "q = deque()"
   ]
  },
  {
   "cell_type": "code",
   "execution_count": 14,
   "id": "556493af-0f84-4f48-85b4-21720118884a",
   "metadata": {},
   "outputs": [],
   "source": [
    "q.append(\"c\")"
   ]
  },
  {
   "cell_type": "code",
   "execution_count": 15,
   "id": "5d9c1d39-99c0-458d-ad43-f02dbed7c920",
   "metadata": {},
   "outputs": [
    {
     "data": {
      "text/plain": [
       "'c'"
      ]
     },
     "execution_count": 15,
     "metadata": {},
     "output_type": "execute_result"
    }
   ],
   "source": [
    "q.popleft()"
   ]
  },
  {
   "cell_type": "code",
   "execution_count": 16,
   "id": "add62bf8-bd97-4fd0-af18-73df622b310a",
   "metadata": {},
   "outputs": [
    {
     "data": {
      "text/plain": [
       "0"
      ]
     },
     "execution_count": 16,
     "metadata": {},
     "output_type": "execute_result"
    }
   ],
   "source": [
    "len(q)"
   ]
  },
  {
   "cell_type": "code",
   "execution_count": 17,
   "id": "73b7ca7f-f9ab-4611-8e7f-126ee387fec5",
   "metadata": {},
   "outputs": [],
   "source": [
    "pra = None"
   ]
  },
  {
   "cell_type": "code",
   "execution_count": 18,
   "id": "96736bd7-59ca-4a7b-952a-79d91a6082e5",
   "metadata": {},
   "outputs": [],
   "source": [
    "def level_order_traversal(rootNode):\n",
    "    if rootNode is None:\n",
    "        return \"NO FURTHER NODES\"\n",
    "    \n",
    "    que = deque()\n",
    "    # enqueue of node address\n",
    "    # here append() function works like insert()\n",
    "    que.append(rootNode)\n",
    "    \n",
    "    while len(que) != 0:\n",
    "        p = que.popleft()\n",
    "        print(p.data)\n",
    "        if p.leftChild is not None:\n",
    "            que.append(p.leftChild)\n",
    "        if p.rightChild is not None:\n",
    "            que.append(p.rightChild)"
   ]
  },
  {
   "cell_type": "code",
   "execution_count": 19,
   "id": "021a29cc-1619-4272-9065-4a654999404f",
   "metadata": {},
   "outputs": [
    {
     "name": "stdout",
     "output_type": "stream",
     "text": [
      "Drinks\n",
      "Hot\n",
      "Cold\n",
      "tea\n",
      "coffee\n"
     ]
    }
   ],
   "source": [
    "level_order_traversal(rootNode)"
   ]
  },
  {
   "cell_type": "code",
   "execution_count": 21,
   "id": "7010ccdd-990c-42f2-99d6-d5f0f07704f4",
   "metadata": {},
   "outputs": [],
   "source": [
    "h.leftChild = None"
   ]
  },
  {
   "cell_type": "code",
   "execution_count": null,
   "id": "2f8d74be-ba38-4621-a8ad-747ff5082dc8",
   "metadata": {},
   "outputs": [],
   "source": []
  }
 ],
 "metadata": {
  "kernelspec": {
   "display_name": "Python 3",
   "language": "python",
   "name": "python3"
  },
  "language_info": {
   "codemirror_mode": {
    "name": "ipython",
    "version": 3
   },
   "file_extension": ".py",
   "mimetype": "text/x-python",
   "name": "python",
   "nbconvert_exporter": "python",
   "pygments_lexer": "ipython3",
   "version": "3.9.4"
  }
 },
 "nbformat": 4,
 "nbformat_minor": 5
}
