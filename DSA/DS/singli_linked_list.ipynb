{
 "cells": [
  {
   "cell_type": "code",
   "execution_count": 1,
   "id": "ac16f39c",
   "metadata": {},
   "outputs": [],
   "source": [
    "# CLASS FOR SINGLI LINKED LIST\n",
    "class SLNode:\n",
    "    def __init__(self, v):\n",
    "        self.value = v\n",
    "        self.nextnode = None\n",
    "        "
   ]
  },
  {
   "cell_type": "code",
   "execution_count": 2,
   "id": "1b2c4a6a-8061-4c7c-ab27-fd93baac8143",
   "metadata": {},
   "outputs": [],
   "source": [
    "x1 = SLNode(\"a@gmail.com\")"
   ]
  },
  {
   "cell_type": "code",
   "execution_count": 3,
   "id": "8421b741-673d-4b5b-aff1-5b4db7838d1c",
   "metadata": {},
   "outputs": [
    {
     "data": {
      "text/plain": [
       "'a@gmail.com'"
      ]
     },
     "execution_count": 3,
     "metadata": {},
     "output_type": "execute_result"
    }
   ],
   "source": [
    "x1.value"
   ]
  },
  {
   "cell_type": "code",
   "execution_count": 4,
   "id": "9e5852bb-e46a-49a2-aa86-858f3581fecf",
   "metadata": {},
   "outputs": [],
   "source": [
    "x1.nextnode"
   ]
  },
  {
   "cell_type": "code",
   "execution_count": 5,
   "id": "8442703a-2419-49f0-8c4e-8f10ae9d5f95",
   "metadata": {},
   "outputs": [
    {
     "data": {
      "text/plain": [
       "{'value': 'a@gmail.com', 'nextnode': None}"
      ]
     },
     "execution_count": 5,
     "metadata": {},
     "output_type": "execute_result"
    }
   ],
   "source": [
    "# tells all the values\n",
    "x1.__dict__"
   ]
  },
  {
   "cell_type": "code",
   "execution_count": 6,
   "id": "de9ae61c-ba85-425f-8777-7a47ef5ebefe",
   "metadata": {},
   "outputs": [
    {
     "data": {
      "text/plain": [
       "<__main__.SLNode at 0x7faf30524250>"
      ]
     },
     "execution_count": 6,
     "metadata": {},
     "output_type": "execute_result"
    }
   ],
   "source": [
    "x1"
   ]
  },
  {
   "cell_type": "code",
   "execution_count": 7,
   "id": "2f33c03a-1792-4815-9cf6-7cfe8bd46bac",
   "metadata": {},
   "outputs": [],
   "source": [
    "x2 = SLNode(\"b@gmail.com\")"
   ]
  },
  {
   "cell_type": "code",
   "execution_count": 8,
   "id": "4e43ca34-1635-4f07-b22c-471770feb1e9",
   "metadata": {},
   "outputs": [
    {
     "data": {
      "text/plain": [
       "{'value': 'b@gmail.com', 'nextnode': None}"
      ]
     },
     "execution_count": 8,
     "metadata": {},
     "output_type": "execute_result"
    }
   ],
   "source": [
    "x2.__dict__"
   ]
  },
  {
   "cell_type": "code",
   "execution_count": 9,
   "id": "8d3b6aca-4c9a-4b31-a037-230c966aee51",
   "metadata": {},
   "outputs": [
    {
     "data": {
      "text/plain": [
       "<__main__.SLNode at 0x7faf305265e0>"
      ]
     },
     "execution_count": 9,
     "metadata": {},
     "output_type": "execute_result"
    }
   ],
   "source": [
    "x2"
   ]
  },
  {
   "cell_type": "code",
   "execution_count": 10,
   "id": "2a849852-1175-452b-9aa7-e3e4e0284dc5",
   "metadata": {},
   "outputs": [],
   "source": [
    "x3 = SLNode(\"c@gmail.com\")"
   ]
  },
  {
   "cell_type": "code",
   "execution_count": 11,
   "id": "abf168b7-abab-4bf2-b690-86622805d82a",
   "metadata": {},
   "outputs": [
    {
     "data": {
      "text/plain": [
       "{'value': 'c@gmail.com', 'nextnode': None}"
      ]
     },
     "execution_count": 11,
     "metadata": {},
     "output_type": "execute_result"
    }
   ],
   "source": [
    "x3.__dict__"
   ]
  },
  {
   "cell_type": "code",
   "execution_count": 12,
   "id": "67d0beaf-9d20-4b8d-bd45-db4f391f111e",
   "metadata": {},
   "outputs": [
    {
     "data": {
      "text/plain": [
       "<__main__.SLNode at 0x7faf3055fdc0>"
      ]
     },
     "execution_count": 12,
     "metadata": {},
     "output_type": "execute_result"
    }
   ],
   "source": [
    "x3"
   ]
  },
  {
   "cell_type": "code",
   "execution_count": 13,
   "id": "a3765be3-2283-4681-a441-1a85724fa014",
   "metadata": {},
   "outputs": [],
   "source": [
    "# linking the nodes\n",
    "# adding address of the nextnode to first\n",
    "x1.nextnode = x2"
   ]
  },
  {
   "cell_type": "code",
   "execution_count": 14,
   "id": "856bf140-fe8c-4e74-a4f3-a58f8a022d30",
   "metadata": {},
   "outputs": [
    {
     "data": {
      "text/plain": [
       "{'value': 'a@gmail.com', 'nextnode': <__main__.SLNode at 0x7faf305265e0>}"
      ]
     },
     "execution_count": 14,
     "metadata": {},
     "output_type": "execute_result"
    }
   ],
   "source": [
    "x1.__dict__"
   ]
  },
  {
   "cell_type": "code",
   "execution_count": 15,
   "id": "4742e9cb-d391-4a43-93bc-0b4620a5095f",
   "metadata": {},
   "outputs": [],
   "source": [
    "x2.nextnode = x3"
   ]
  },
  {
   "cell_type": "code",
   "execution_count": 16,
   "id": "caeb3c84-f2d7-448f-923e-979cbdf23e38",
   "metadata": {},
   "outputs": [
    {
     "data": {
      "text/plain": [
       "{'value': 'b@gmail.com', 'nextnode': <__main__.SLNode at 0x7faf3055fdc0>}"
      ]
     },
     "execution_count": 16,
     "metadata": {},
     "output_type": "execute_result"
    }
   ],
   "source": [
    "x2.__dict__"
   ]
  },
  {
   "cell_type": "code",
   "execution_count": 17,
   "id": "316bb19f-fb4f-41b7-8a68-142955db9488",
   "metadata": {},
   "outputs": [],
   "source": [
    "head = x1"
   ]
  },
  {
   "cell_type": "code",
   "execution_count": 18,
   "id": "84efd781-4c21-48e2-889e-5352016409c8",
   "metadata": {},
   "outputs": [
    {
     "data": {
      "text/plain": [
       "<__main__.SLNode at 0x7faf30524250>"
      ]
     },
     "execution_count": 18,
     "metadata": {},
     "output_type": "execute_result"
    }
   ],
   "source": [
    "head"
   ]
  },
  {
   "cell_type": "code",
   "execution_count": 19,
   "id": "595709bf-ce2f-4d4d-b486-36ce70afb987",
   "metadata": {},
   "outputs": [
    {
     "data": {
      "text/plain": [
       "'a@gmail.com'"
      ]
     },
     "execution_count": 19,
     "metadata": {},
     "output_type": "execute_result"
    }
   ],
   "source": [
    "head.value"
   ]
  },
  {
   "cell_type": "code",
   "execution_count": 20,
   "id": "bf4dced8-ec46-4c05-b456-d7b85273ef91",
   "metadata": {},
   "outputs": [
    {
     "data": {
      "text/plain": [
       "'b@gmail.com'"
      ]
     },
     "execution_count": 20,
     "metadata": {},
     "output_type": "execute_result"
    }
   ],
   "source": [
    "head.nextnode.value"
   ]
  },
  {
   "cell_type": "code",
   "execution_count": 21,
   "id": "a905a482-4b22-4a3c-ad31-85f39f1e638a",
   "metadata": {},
   "outputs": [
    {
     "data": {
      "text/plain": [
       "'c@gmail.com'"
      ]
     },
     "execution_count": 21,
     "metadata": {},
     "output_type": "execute_result"
    }
   ],
   "source": [
    "head.nextnode.nextnode.value"
   ]
  },
  {
   "cell_type": "code",
   "execution_count": 22,
   "id": "fcf78c4d-d5c9-483f-af01-07bffbe89e2f",
   "metadata": {},
   "outputs": [
    {
     "name": "stdout",
     "output_type": "stream",
     "text": [
      "a@gmail.com\n",
      "b@gmail.com\n",
      "c@gmail.com\n"
     ]
    }
   ],
   "source": [
    "# traverse operation in linked list\n",
    "# traversal\n",
    "head = x1\n",
    "while head is not None:\n",
    "    print(head.value)\n",
    "    head = head.nextnode"
   ]
  },
  {
   "cell_type": "code",
   "execution_count": 23,
   "id": "f2d1626e-8cf4-4298-acf7-09044e8e7cf8",
   "metadata": {},
   "outputs": [],
   "source": [
    "# appeding\n",
    "x4 = SLNode('d@gmail.com')"
   ]
  },
  {
   "cell_type": "code",
   "execution_count": 24,
   "id": "6e1f6114-0402-4244-96fb-6b4cbd2b8827",
   "metadata": {},
   "outputs": [],
   "source": [
    "x3.nextnode = x4"
   ]
  },
  {
   "cell_type": "code",
   "execution_count": 26,
   "id": "85a01460-67b0-461e-8b8c-f38c8a39fc77",
   "metadata": {},
   "outputs": [
    {
     "name": "stdout",
     "output_type": "stream",
     "text": [
      "a@gmail.com\n",
      "b@gmail.com\n",
      "c@gmail.com\n",
      "d@gmail.com\n"
     ]
    }
   ],
   "source": [
    "head = x1\n",
    "while head is not None:\n",
    "    print(head.value)\n",
    "    head = head.nextnode"
   ]
  },
  {
   "cell_type": "code",
   "execution_count": null,
   "id": "a0f295e4-072a-4d56-aae5-e3cb4cf03a74",
   "metadata": {},
   "outputs": [],
   "source": []
  }
 ],
 "metadata": {
  "kernelspec": {
   "display_name": "Python 3",
   "language": "python",
   "name": "python3"
  },
  "language_info": {
   "codemirror_mode": {
    "name": "ipython",
    "version": 3
   },
   "file_extension": ".py",
   "mimetype": "text/x-python",
   "name": "python",
   "nbconvert_exporter": "python",
   "pygments_lexer": "ipython3",
   "version": "3.9.2"
  }
 },
 "nbformat": 4,
 "nbformat_minor": 5
}
