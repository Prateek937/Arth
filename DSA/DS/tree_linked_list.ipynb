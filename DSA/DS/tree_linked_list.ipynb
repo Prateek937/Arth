{
 "cells": [
  {
   "cell_type": "code",
   "execution_count": 1,
   "id": "8d8fa72e-014f-43ce-865c-1be179541b72",
   "metadata": {},
   "outputs": [],
   "source": [
    "# Tree data structure with the help of linked list"
   ]
  },
  {
   "cell_type": "code",
   "execution_count": 2,
   "id": "1fe42eba-f471-46c9-9573-34743b325b2c",
   "metadata": {},
   "outputs": [],
   "source": [
    "class TreeNode:\n",
    "    def __init__(self, data, children = []):\n",
    "        self.data = data\n",
    "        self.children = children\n",
    "    \n",
    "    # for adding the child nodes value\n",
    "    def addChild(self, TreeNode):\n",
    "        self.children.append(TreeNode)"
   ]
  },
  {
   "cell_type": "code",
   "execution_count": 3,
   "id": "3df74b06-229e-4540-8b8b-6519c5c8bced",
   "metadata": {},
   "outputs": [],
   "source": [
    "# creating the root node\n",
    "tree = TreeNode(\"drinks\", [])"
   ]
  },
  {
   "cell_type": "code",
   "execution_count": 4,
   "id": "71ead7eb-b738-455a-b031-89395b2903a4",
   "metadata": {},
   "outputs": [
    {
     "data": {
      "text/plain": [
       "'drinks'"
      ]
     },
     "execution_count": 4,
     "metadata": {},
     "output_type": "execute_result"
    }
   ],
   "source": [
    "tree.data"
   ]
  },
  {
   "cell_type": "code",
   "execution_count": 5,
   "id": "64850ad6-e87e-411f-994c-eeadf83da6cd",
   "metadata": {},
   "outputs": [
    {
     "data": {
      "text/plain": [
       "[]"
      ]
     },
     "execution_count": 5,
     "metadata": {},
     "output_type": "execute_result"
    }
   ],
   "source": [
    "tree.children"
   ]
  },
  {
   "cell_type": "code",
   "execution_count": 6,
   "id": "d402f297-197b-4f48-aea6-f07a322a22db",
   "metadata": {},
   "outputs": [],
   "source": [
    "# creating the childnode\n",
    "hot = TreeNode(\"hot\", [])"
   ]
  },
  {
   "cell_type": "code",
   "execution_count": 7,
   "id": "f9d8179f-6050-48c3-8762-851c9afde858",
   "metadata": {},
   "outputs": [
    {
     "data": {
      "text/plain": [
       "'hot'"
      ]
     },
     "execution_count": 7,
     "metadata": {},
     "output_type": "execute_result"
    }
   ],
   "source": [
    "hot.data"
   ]
  },
  {
   "cell_type": "code",
   "execution_count": 8,
   "id": "6866ed67-3e61-4609-98ea-416efd148b09",
   "metadata": {},
   "outputs": [],
   "source": [
    "# creating the sibling\n",
    "cold = TreeNode(\"cold\", [])"
   ]
  },
  {
   "cell_type": "code",
   "execution_count": 9,
   "id": "50515bfc-415d-44b8-b0c0-b2c4418ca49f",
   "metadata": {},
   "outputs": [
    {
     "data": {
      "text/plain": [
       "'cold'"
      ]
     },
     "execution_count": 9,
     "metadata": {},
     "output_type": "execute_result"
    }
   ],
   "source": [
    "cold.data"
   ]
  },
  {
   "cell_type": "code",
   "execution_count": 10,
   "id": "10a37937-3229-4bf2-b651-f400d0e3e53a",
   "metadata": {},
   "outputs": [
    {
     "data": {
      "text/plain": [
       "[]"
      ]
     },
     "execution_count": 10,
     "metadata": {},
     "output_type": "execute_result"
    }
   ],
   "source": [
    "cold.children"
   ]
  },
  {
   "cell_type": "code",
   "execution_count": 11,
   "id": "e6bb92ef-73ab-4038-bb94-7004d84dade1",
   "metadata": {},
   "outputs": [],
   "source": [
    "# tree.children.append(cold)\n",
    "tree.addChild(hot)"
   ]
  },
  {
   "cell_type": "code",
   "execution_count": 12,
   "id": "4d8f2559-8082-448e-a05f-e6945195a27d",
   "metadata": {},
   "outputs": [
    {
     "data": {
      "text/plain": [
       "{'data': 'drinks', 'children': [<__main__.TreeNode at 0x7f3fd0352ee0>]}"
      ]
     },
     "execution_count": 12,
     "metadata": {},
     "output_type": "execute_result"
    }
   ],
   "source": [
    "tree.__dict__"
   ]
  },
  {
   "cell_type": "code",
   "execution_count": 13,
   "id": "b8dacf73-83b0-4037-8d45-cc0b3dc87898",
   "metadata": {},
   "outputs": [],
   "source": [
    "# tree.children.append(cold)\n",
    "tree.addChild(cold)"
   ]
  },
  {
   "cell_type": "code",
   "execution_count": 14,
   "id": "f40bd4af-5377-421d-9333-f348c41eb48b",
   "metadata": {},
   "outputs": [
    {
     "data": {
      "text/plain": [
       "{'data': 'drinks',\n",
       " 'children': [<__main__.TreeNode at 0x7f3fd0352ee0>,\n",
       "  <__main__.TreeNode at 0x7f3fd03aa8e0>]}"
      ]
     },
     "execution_count": 14,
     "metadata": {},
     "output_type": "execute_result"
    }
   ],
   "source": [
    "tree.__dict__"
   ]
  },
  {
   "cell_type": "code",
   "execution_count": 15,
   "id": "da7101f3-13da-41b6-86d7-9ffc08753129",
   "metadata": {},
   "outputs": [
    {
     "data": {
      "text/plain": [
       "{'data': 'hot', 'children': []}"
      ]
     },
     "execution_count": 15,
     "metadata": {},
     "output_type": "execute_result"
    }
   ],
   "source": [
    "hot.__dict__"
   ]
  },
  {
   "cell_type": "code",
   "execution_count": 16,
   "id": "af0a5653-428d-4724-b565-d57f4612e1f3",
   "metadata": {},
   "outputs": [
    {
     "data": {
      "text/plain": [
       "{'data': 'cold', 'children': []}"
      ]
     },
     "execution_count": 16,
     "metadata": {},
     "output_type": "execute_result"
    }
   ],
   "source": [
    "cold.__dict__"
   ]
  },
  {
   "cell_type": "code",
   "execution_count": 17,
   "id": "d4b4fa72-e7d7-4a18-ae8a-e41898074a83",
   "metadata": {},
   "outputs": [],
   "source": [
    "tea = TreeNode(\"tea\", [])"
   ]
  },
  {
   "cell_type": "code",
   "execution_count": 18,
   "id": "f9815143-a76f-4c19-a5e1-3dd7e314b12e",
   "metadata": {},
   "outputs": [],
   "source": [
    "coffee = TreeNode(\"coffee\", [])"
   ]
  },
  {
   "cell_type": "code",
   "execution_count": 19,
   "id": "8d73498c-6bad-4aed-b65b-be738179daf8",
   "metadata": {},
   "outputs": [],
   "source": [
    "soup = TreeNode(\"soup\", [])"
   ]
  },
  {
   "cell_type": "code",
   "execution_count": 20,
   "id": "e51e8af9-9600-4a98-a3cd-a385165b8584",
   "metadata": {},
   "outputs": [],
   "source": [
    "hot.addChild(tea)"
   ]
  },
  {
   "cell_type": "code",
   "execution_count": 21,
   "id": "effa2ae1-0d0f-42f2-8967-798ecfc43224",
   "metadata": {},
   "outputs": [],
   "source": [
    "hot.addChild(coffee)"
   ]
  },
  {
   "cell_type": "code",
   "execution_count": 22,
   "id": "1cecd8b7-7478-4259-9c37-087654692506",
   "metadata": {},
   "outputs": [],
   "source": [
    "hot.addChild(soup)"
   ]
  },
  {
   "cell_type": "code",
   "execution_count": 23,
   "id": "99904c74-5249-40c6-892f-aad6a4141ae3",
   "metadata": {},
   "outputs": [
    {
     "data": {
      "text/plain": [
       "{'data': 'hot',\n",
       " 'children': [<__main__.TreeNode at 0x7f3fd0303af0>,\n",
       "  <__main__.TreeNode at 0x7f3fd0352730>,\n",
       "  <__main__.TreeNode at 0x7f3fd03438b0>]}"
      ]
     },
     "execution_count": 23,
     "metadata": {},
     "output_type": "execute_result"
    }
   ],
   "source": [
    "hot.__dict__"
   ]
  },
  {
   "cell_type": "code",
   "execution_count": 24,
   "id": "208d134c-3cce-43fe-a1f1-87011fa3fdd9",
   "metadata": {},
   "outputs": [
    {
     "data": {
      "text/plain": [
       "'tea'"
      ]
     },
     "execution_count": 24,
     "metadata": {},
     "output_type": "execute_result"
    }
   ],
   "source": [
    "hot.children[0].data"
   ]
  },
  {
   "cell_type": "code",
   "execution_count": 25,
   "id": "5f524827-5266-4725-85f9-c98ae5447ab3",
   "metadata": {},
   "outputs": [
    {
     "data": {
      "text/plain": [
       "'coffee'"
      ]
     },
     "execution_count": 25,
     "metadata": {},
     "output_type": "execute_result"
    }
   ],
   "source": [
    "hot.children[1].data"
   ]
  },
  {
   "cell_type": "code",
   "execution_count": 26,
   "id": "120714d1-e9e8-42a7-b400-96c19bdf718a",
   "metadata": {},
   "outputs": [],
   "source": [
    "cola = TreeNode(\"cola\", [])"
   ]
  },
  {
   "cell_type": "code",
   "execution_count": 27,
   "id": "de541c7b-22e3-4229-8ad6-e1dfaa5b87b5",
   "metadata": {},
   "outputs": [],
   "source": [
    "cold.addChild(cola)"
   ]
  },
  {
   "cell_type": "code",
   "execution_count": 33,
   "id": "0689c339-46e7-42e4-a297-42645fdd8915",
   "metadata": {},
   "outputs": [],
   "source": [
    "sprite = TreeNode(\"sprite\", [])"
   ]
  },
  {
   "cell_type": "code",
   "execution_count": 35,
   "id": "92a7776d-d723-4f55-8f28-a3bce29440e1",
   "metadata": {},
   "outputs": [],
   "source": [
    "cold.addChild(sprite)"
   ]
  },
  {
   "cell_type": "code",
   "execution_count": 36,
   "id": "af9556c2-1311-40d4-9493-144b4a0c59d6",
   "metadata": {},
   "outputs": [
    {
     "name": "stdout",
     "output_type": "stream",
     "text": [
      "hot:\n",
      "  tea\n",
      "  coffee\n",
      "  soup\n",
      "cold:\n",
      "  cola\n",
      "  sprite\n"
     ]
    }
   ],
   "source": [
    "# level 1\n",
    "for i in tree.children:\n",
    "    print(i.data + \":\")\n",
    "    for j in i.children:\n",
    "        print(f\"  {j.data}\")"
   ]
  },
  {
   "cell_type": "code",
   "execution_count": 29,
   "id": "a936b830-e4dd-468d-93d5-48cc97859436",
   "metadata": {},
   "outputs": [
    {
     "name": "stdout",
     "output_type": "stream",
     "text": [
      "tea\n",
      "coffee\n",
      "soup\n"
     ]
    }
   ],
   "source": [
    "# level 2\n",
    "for i in hot.children:\n",
    "    print(i.data)"
   ]
  },
  {
   "cell_type": "code",
   "execution_count": null,
   "id": "dbad57b0-aa7a-41e5-be90-fb7ac2dcbae2",
   "metadata": {},
   "outputs": [],
   "source": []
  }
 ],
 "metadata": {
  "kernelspec": {
   "display_name": "Python 3",
   "language": "python",
   "name": "python3"
  },
  "language_info": {
   "codemirror_mode": {
    "name": "ipython",
    "version": 3
   },
   "file_extension": ".py",
   "mimetype": "text/x-python",
   "name": "python",
   "nbconvert_exporter": "python",
   "pygments_lexer": "ipython3",
   "version": "3.9.4"
  }
 },
 "nbformat": 4,
 "nbformat_minor": 5
}
