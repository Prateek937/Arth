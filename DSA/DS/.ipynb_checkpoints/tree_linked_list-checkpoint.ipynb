{
 "cells": [
  {
   "cell_type": "code",
   "execution_count": 1,
   "id": "8d8fa72e-014f-43ce-865c-1be179541b72",
   "metadata": {},
   "outputs": [],
   "source": [
    "# Tree data structure with the help of linked list"
   ]
  },
  {
   "cell_type": "code",
   "execution_count": 71,
   "id": "1fe42eba-f471-46c9-9573-34743b325b2c",
   "metadata": {},
   "outputs": [],
   "source": [
    "class TreeNode:\n",
    "    def __init__(self, data, children = []):\n",
    "        self.data = data\n",
    "        self.children = children\n",
    "    \n",
    "    # for adding the child nodes value\n",
    "    def addChild(self, childName):\n",
    "        self.children.append(childName)"
   ]
  },
  {
   "cell_type": "code",
   "execution_count": 72,
   "id": "3df74b06-229e-4540-8b8b-6519c5c8bced",
   "metadata": {},
   "outputs": [],
   "source": [
    "tree = TreeNode(\"drinks\")"
   ]
  },
  {
   "cell_type": "code",
   "execution_count": 59,
   "id": "71ead7eb-b738-455a-b031-89395b2903a4",
   "metadata": {},
   "outputs": [
    {
     "data": {
      "text/plain": [
       "'drinks'"
      ]
     },
     "execution_count": 59,
     "metadata": {},
     "output_type": "execute_result"
    }
   ],
   "source": [
    "tree.data"
   ]
  },
  {
   "cell_type": "code",
   "execution_count": 60,
   "id": "64850ad6-e87e-411f-994c-eeadf83da6cd",
   "metadata": {},
   "outputs": [
    {
     "data": {
      "text/plain": [
       "[]"
      ]
     },
     "execution_count": 60,
     "metadata": {},
     "output_type": "execute_result"
    }
   ],
   "source": [
    "tree.children"
   ]
  },
  {
   "cell_type": "code",
   "execution_count": 73,
   "id": "d402f297-197b-4f48-aea6-f07a322a22db",
   "metadata": {},
   "outputs": [],
   "source": [
    "hot = TreeNode(\"hot\")"
   ]
  },
  {
   "cell_type": "code",
   "execution_count": 74,
   "id": "f9d8179f-6050-48c3-8762-851c9afde858",
   "metadata": {},
   "outputs": [
    {
     "data": {
      "text/plain": [
       "'hot'"
      ]
     },
     "execution_count": 74,
     "metadata": {},
     "output_type": "execute_result"
    }
   ],
   "source": [
    "hot.data"
   ]
  },
  {
   "cell_type": "code",
   "execution_count": 75,
   "id": "6866ed67-3e61-4609-98ea-416efd148b09",
   "metadata": {},
   "outputs": [],
   "source": [
    "cold = TreeNode(\"cold\")"
   ]
  },
  {
   "cell_type": "code",
   "execution_count": 64,
   "id": "50515bfc-415d-44b8-b0c0-b2c4418ca49f",
   "metadata": {},
   "outputs": [
    {
     "data": {
      "text/plain": [
       "'cold'"
      ]
     },
     "execution_count": 64,
     "metadata": {},
     "output_type": "execute_result"
    }
   ],
   "source": [
    "cold.data"
   ]
  },
  {
   "cell_type": "code",
   "execution_count": 65,
   "id": "10a37937-3229-4bf2-b651-f400d0e3e53a",
   "metadata": {},
   "outputs": [
    {
     "data": {
      "text/plain": [
       "[]"
      ]
     },
     "execution_count": 65,
     "metadata": {},
     "output_type": "execute_result"
    }
   ],
   "source": [
    "cold.children"
   ]
  },
  {
   "cell_type": "code",
   "execution_count": 66,
   "id": "e6bb92ef-73ab-4038-bb94-7004d84dade1",
   "metadata": {},
   "outputs": [],
   "source": [
    "# tree.children.append(cold)\n",
    "tree.addChild(hot)"
   ]
  },
  {
   "cell_type": "code",
   "execution_count": 67,
   "id": "4d8f2559-8082-448e-a05f-e6945195a27d",
   "metadata": {},
   "outputs": [
    {
     "data": {
      "text/plain": [
       "{'data': 'drinks', 'children': [<__main__.myclass at 0x7f472ea5f970>]}"
      ]
     },
     "execution_count": 67,
     "metadata": {},
     "output_type": "execute_result"
    }
   ],
   "source": [
    "tree.__dict__"
   ]
  },
  {
   "cell_type": "code",
   "execution_count": 68,
   "id": "b8dacf73-83b0-4037-8d45-cc0b3dc87898",
   "metadata": {},
   "outputs": [],
   "source": [
    "# tree.children.append(cold)\n",
    "tree.addChild(cold)"
   ]
  },
  {
   "cell_type": "code",
   "execution_count": 69,
   "id": "f40bd4af-5377-421d-9333-f348c41eb48b",
   "metadata": {},
   "outputs": [
    {
     "data": {
      "text/plain": [
       "{'data': 'drinks',\n",
       " 'children': [<__main__.myclass at 0x7f472ea5f970>,\n",
       "  <__main__.myclass at 0x7f472eb1b340>]}"
      ]
     },
     "execution_count": 69,
     "metadata": {},
     "output_type": "execute_result"
    }
   ],
   "source": [
    "tree.__dict__"
   ]
  },
  {
   "cell_type": "code",
   "execution_count": 70,
   "id": "da7101f3-13da-41b6-86d7-9ffc08753129",
   "metadata": {},
   "outputs": [
    {
     "data": {
      "text/plain": [
       "{'data': 'hot',\n",
       " 'children': [<__main__.myclass at 0x7f472ea5f970>,\n",
       "  <__main__.myclass at 0x7f472eb1b340>]}"
      ]
     },
     "execution_count": 70,
     "metadata": {},
     "output_type": "execute_result"
    }
   ],
   "source": [
    "hot.__dict__"
   ]
  },
  {
   "cell_type": "code",
   "execution_count": null,
   "id": "af0a5653-428d-4724-b565-d57f4612e1f3",
   "metadata": {},
   "outputs": [],
   "source": []
  },
  {
   "cell_type": "code",
   "execution_count": null,
   "id": "d4b4fa72-e7d7-4a18-ae8a-e41898074a83",
   "metadata": {},
   "outputs": [],
   "source": []
  }
 ],
 "metadata": {
  "kernelspec": {
   "display_name": "Python 3",
   "language": "python",
   "name": "python3"
  },
  "language_info": {
   "codemirror_mode": {
    "name": "ipython",
    "version": 3
   },
   "file_extension": ".py",
   "mimetype": "text/x-python",
   "name": "python",
   "nbconvert_exporter": "python",
   "pygments_lexer": "ipython3",
   "version": "3.9.4"
  }
 },
 "nbformat": 4,
 "nbformat_minor": 5
}
