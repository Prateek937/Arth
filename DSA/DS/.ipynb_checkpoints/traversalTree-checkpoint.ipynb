{
 "cells": [
  {
   "cell_type": "code",
   "execution_count": 1,
   "id": "751b576a-dc2a-44c0-b40a-501fee1bafe8",
   "metadata": {},
   "outputs": [],
   "source": [
    "class TreeNode:\n",
    "    def __init__(self, data):\n",
    "        self.data = data\n",
    "        self.leftChild = None\n",
    "        self.rightChild = None\n"
   ]
  },
  {
   "cell_type": "code",
   "execution_count": 2,
   "id": "9002c148-3591-407b-a903-4fea8f955867",
   "metadata": {},
   "outputs": [],
   "source": [
    "rootNode = TreeNode(\"Drinks\")"
   ]
  },
  {
   "cell_type": "code",
   "execution_count": 3,
   "id": "07bb598c-d7f2-4e9c-86e3-0de05737ca46",
   "metadata": {},
   "outputs": [
    {
     "data": {
      "text/plain": [
       "{'data': 'Drinks', 'leftChild': None, 'rightChild': None}"
      ]
     },
     "execution_count": 3,
     "metadata": {},
     "output_type": "execute_result"
    }
   ],
   "source": [
    "rootNode.__dict__"
   ]
  },
  {
   "cell_type": "code",
   "execution_count": 4,
   "id": "7cfadf00-0c12-40f9-a37a-d92f52d259d7",
   "metadata": {},
   "outputs": [],
   "source": [
    "hot = TreeNode(\"Hot\")"
   ]
  },
  {
   "cell_type": "code",
   "execution_count": 5,
   "id": "deb6cce8-2213-446b-bd58-e6f82cdee347",
   "metadata": {},
   "outputs": [],
   "source": [
    "cold = TreeNode(\"Cold\")"
   ]
  },
  {
   "cell_type": "code",
   "execution_count": 6,
   "id": "19915c1b-8f42-4764-be90-4bb82f622663",
   "metadata": {},
   "outputs": [],
   "source": [
    "rootNode.leftChild = hot"
   ]
  },
  {
   "cell_type": "code",
   "execution_count": 7,
   "id": "8bf8ea62-a8e6-4788-bfb4-524577c41b4d",
   "metadata": {},
   "outputs": [
    {
     "data": {
      "text/plain": [
       "{'data': 'Drinks',\n",
       " 'leftChild': <__main__.TreeNode at 0x7f628c875c10>,\n",
       " 'rightChild': None}"
      ]
     },
     "execution_count": 7,
     "metadata": {},
     "output_type": "execute_result"
    }
   ],
   "source": [
    "rootNode.__dict__"
   ]
  },
  {
   "cell_type": "code",
   "execution_count": 17,
   "id": "3688bf3c-191f-4e2a-8667-c600fc65d169",
   "metadata": {},
   "outputs": [],
   "source": [
    "rootNode.rightChild = cold"
   ]
  },
  {
   "cell_type": "code",
   "execution_count": 9,
   "id": "06df7677-0ee2-4f0c-9461-1414ac0cca6a",
   "metadata": {},
   "outputs": [
    {
     "data": {
      "text/plain": [
       "{'data': 'Drinks',\n",
       " 'leftChild': <__main__.TreeNode at 0x7f628c875c10>,\n",
       " 'rightChild': None,\n",
       " 'righChild': <__main__.TreeNode at 0x7f6288fa4160>}"
      ]
     },
     "execution_count": 9,
     "metadata": {},
     "output_type": "execute_result"
    }
   ],
   "source": [
    "rootNode.__dict__"
   ]
  },
  {
   "cell_type": "code",
   "execution_count": 20,
   "id": "6b49e96b-9b64-4cb4-89de-c8bca981aa8c",
   "metadata": {},
   "outputs": [],
   "source": [
    "# PreOrder Traversal \n",
    "# Small(rootNode) to childs\n",
    "def preOrderTraversal(myTree):\n",
    "    if not myTree:\n",
    "        return\n",
    "    print(myTree.data)\n",
    "    preOrderTraversal(myTree.leftChild)\n",
    "    preOrderTraversal(myTree.rightChild)"
   ]
  },
  {
   "cell_type": "code",
   "execution_count": 21,
   "id": "bd95c4c8-f918-45fd-91b9-ee2df163a3be",
   "metadata": {},
   "outputs": [
    {
     "name": "stdout",
     "output_type": "stream",
     "text": [
      "Drinks\n",
      "Hot\n",
      "asf\n",
      "asf\n",
      "Cold\n",
      "asf\n",
      "asf\n"
     ]
    }
   ],
   "source": [
    "preOrderTraversal(rootNode)"
   ]
  },
  {
   "cell_type": "code",
   "execution_count": 12,
   "id": "4c6b77ef-c8a8-4df7-b509-96206449d28b",
   "metadata": {},
   "outputs": [],
   "source": [
    "# postTravesal\n",
    "def postOrderTraversal(myTree):\n",
    "    if not myTree:\n",
    "        return\n",
    "    preOrderTraversal(myTree.leftChild)\n",
    "    preOrderTraversal(myTree.rightChild)\n",
    "    print(myTree.data)"
   ]
  },
  {
   "cell_type": "code",
   "execution_count": 13,
   "id": "c7a321e1-8aeb-4f90-9e23-34a99f79425a",
   "metadata": {},
   "outputs": [
    {
     "name": "stdout",
     "output_type": "stream",
     "text": [
      "Hot\n",
      "lajshd\n",
      "lajshd\n",
      "lajshd\n",
      "Drinks\n"
     ]
    }
   ],
   "source": [
    "postOrderTraversal(rootNode)"
   ]
  },
  {
   "cell_type": "code",
   "execution_count": 14,
   "id": "d36c0376-0647-4cc7-8502-c1c4bc2a5936",
   "metadata": {},
   "outputs": [],
   "source": [
    "def inOrderTraversal(myTree):\n",
    "    if not myTree:\n",
    "        return\n",
    "    preOrderTraversal(myTree.leftChild)\n",
    "    print(myTree.data)\n",
    "    preOrderTraversal(myTree.rightChild)\n",
    "    \n",
    "   "
   ]
  },
  {
   "cell_type": "code",
   "execution_count": null,
   "id": "4277b19a-a557-4327-ba2d-f3d2fb0e9b3c",
   "metadata": {},
   "outputs": [],
   "source": []
  }
 ],
 "metadata": {
  "kernelspec": {
   "display_name": "Python 3",
   "language": "python",
   "name": "python3"
  },
  "language_info": {
   "codemirror_mode": {
    "name": "ipython",
    "version": 3
   },
   "file_extension": ".py",
   "mimetype": "text/x-python",
   "name": "python",
   "nbconvert_exporter": "python",
   "pygments_lexer": "ipython3",
   "version": "3.9.4"
  }
 },
 "nbformat": 4,
 "nbformat_minor": 5
}
