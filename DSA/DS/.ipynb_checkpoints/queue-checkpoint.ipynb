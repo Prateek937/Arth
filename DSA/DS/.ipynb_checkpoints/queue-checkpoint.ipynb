{
 "cells": [
  {
   "cell_type": "code",
   "execution_count": 1,
   "id": "295da520-3273-40fa-bf1c-94cfbc650f33",
   "metadata": {},
   "outputs": [],
   "source": [
    "class Queue:\n",
    "    def __init__ (self):\n",
    "        self.items = []\n",
    "    # for inserting the data into queue    \n",
    "    def enqueue(self, data):\n",
    "        self.items.insert(0, data)\n",
    "        \n",
    "    # to read and access the data\n",
    "    def dequeue(self):\n",
    "        return self.items.pop()\n",
    "    \n",
    "    # for length of the queue\n",
    "    def size(self):\n",
    "        return len(self.items)\n",
    "    \n",
    "    # check if empty\n",
    "    def isEmpty(self):\n",
    "        return self.items == []\n",
    "    \n",
    "    # for having the peak\n",
    "    def peek(self):\n",
    "        return self.items[-1]"
   ]
  },
  {
   "cell_type": "code",
   "execution_count": 2,
   "id": "7d8ae383-71be-4966-9cc1-ce27e43f1a77",
   "metadata": {},
   "outputs": [],
   "source": [
    "movie = Queue()"
   ]
  },
  {
   "cell_type": "code",
   "execution_count": 3,
   "id": "fb2a4e80-1283-4184-8038-63daa8117d95",
   "metadata": {},
   "outputs": [],
   "source": [
    "movie.enqueue(\"Prateek\")"
   ]
  },
  {
   "cell_type": "code",
   "execution_count": 4,
   "id": "e10777e7-f3c3-4089-9b2d-e264d83b370d",
   "metadata": {},
   "outputs": [],
   "source": [
    "movie.enqueue(\"Tom\")"
   ]
  },
  {
   "cell_type": "code",
   "execution_count": 5,
   "id": "ac9f545a-7410-4b5f-8815-07cc21797af6",
   "metadata": {},
   "outputs": [],
   "source": [
    "movie.enqueue(\"Krish\")"
   ]
  },
  {
   "cell_type": "code",
   "execution_count": 6,
   "id": "d41321ec-4b17-4efb-a3d2-b074d7e5d957",
   "metadata": {},
   "outputs": [],
   "source": [
    "movie.enqueue(\"Bhavna\")"
   ]
  },
  {
   "cell_type": "code",
   "execution_count": 7,
   "id": "fa64fe1b-f10b-4bff-8aca-89f132a3bd3f",
   "metadata": {},
   "outputs": [
    {
     "data": {
      "text/plain": [
       "{'items': ['Bhavna', 'Krish', 'Tom', 'Prateek']}"
      ]
     },
     "execution_count": 7,
     "metadata": {},
     "output_type": "execute_result"
    }
   ],
   "source": [
    "movie.__dict__"
   ]
  },
  {
   "cell_type": "code",
   "execution_count": 8,
   "id": "53e4169f-e547-4543-ab30-0628d2e7390f",
   "metadata": {},
   "outputs": [
    {
     "data": {
      "text/plain": [
       "'Prateek'"
      ]
     },
     "execution_count": 8,
     "metadata": {},
     "output_type": "execute_result"
    }
   ],
   "source": [
    "movie.dequeue()"
   ]
  },
  {
   "cell_type": "code",
   "execution_count": 9,
   "id": "88f6e177-a60a-41ed-a07a-16ac609ab664",
   "metadata": {},
   "outputs": [
    {
     "data": {
      "text/plain": [
       "'Tom'"
      ]
     },
     "execution_count": 9,
     "metadata": {},
     "output_type": "execute_result"
    }
   ],
   "source": [
    "movie.peek()"
   ]
  },
  {
   "cell_type": "code",
   "execution_count": 10,
   "id": "38469721-02eb-4892-be98-062a7587148a",
   "metadata": {},
   "outputs": [
    {
     "data": {
      "text/plain": [
       "'Tom'"
      ]
     },
     "execution_count": 10,
     "metadata": {},
     "output_type": "execute_result"
    }
   ],
   "source": [
    "movie.dequeue()"
   ]
  },
  {
   "cell_type": "code",
   "execution_count": 11,
   "id": "605c21d6-e3ff-4217-9010-3a8acbc445bf",
   "metadata": {},
   "outputs": [
    {
     "data": {
      "text/plain": [
       "'Krish'"
      ]
     },
     "execution_count": 11,
     "metadata": {},
     "output_type": "execute_result"
    }
   ],
   "source": [
    "movie.dequeue()"
   ]
  },
  {
   "cell_type": "code",
   "execution_count": 12,
   "id": "7c86a092-6cb1-477d-8527-816bf5f284ac",
   "metadata": {},
   "outputs": [
    {
     "data": {
      "text/plain": [
       "False"
      ]
     },
     "execution_count": 12,
     "metadata": {},
     "output_type": "execute_result"
    }
   ],
   "source": [
    "movie.isEmpty()"
   ]
  },
  {
   "cell_type": "code",
   "execution_count": 13,
   "id": "d0cb529b-7b2f-4e04-a716-3faeb1560986",
   "metadata": {},
   "outputs": [
    {
     "data": {
      "text/plain": [
       "'Bhavna'"
      ]
     },
     "execution_count": 13,
     "metadata": {},
     "output_type": "execute_result"
    }
   ],
   "source": [
    "movie.dequeue()"
   ]
  },
  {
   "cell_type": "code",
   "execution_count": 14,
   "id": "14d4ae58-b8e2-4a2c-aae7-bb49a9f16598",
   "metadata": {},
   "outputs": [
    {
     "data": {
      "text/plain": [
       "True"
      ]
     },
     "execution_count": 14,
     "metadata": {},
     "output_type": "execute_result"
    }
   ],
   "source": [
    "movie.isEmpty()"
   ]
  },
  {
   "cell_type": "code",
   "execution_count": null,
   "id": "1615d074-ee07-4b6b-af2b-ee6295e24ff9",
   "metadata": {},
   "outputs": [],
   "source": []
  },
  {
   "cell_type": "code",
   "execution_count": 15,
   "id": "44617e67-c62e-4f87-8d40-b8049b313264",
   "metadata": {},
   "outputs": [],
   "source": [
    "# Module for Queue\n",
    "\n",
    "import queue as q"
   ]
  },
  {
   "cell_type": "code",
   "execution_count": 16,
   "id": "db11ec86-1294-4659-8495-d5e215bffb2e",
   "metadata": {},
   "outputs": [
    {
     "data": {
      "text/plain": [
       "['Empty',\n",
       " 'Full',\n",
       " 'LifoQueue',\n",
       " 'PriorityQueue',\n",
       " 'Queue',\n",
       " 'SimpleQueue',\n",
       " '_PySimpleQueue',\n",
       " '__all__',\n",
       " '__builtins__',\n",
       " '__cached__',\n",
       " '__doc__',\n",
       " '__file__',\n",
       " '__loader__',\n",
       " '__name__',\n",
       " '__package__',\n",
       " '__spec__',\n",
       " 'deque',\n",
       " 'heappop',\n",
       " 'heappush',\n",
       " 'threading',\n",
       " 'time',\n",
       " 'types']"
      ]
     },
     "execution_count": 16,
     "metadata": {},
     "output_type": "execute_result"
    }
   ],
   "source": [
    "dir(q)"
   ]
  },
  {
   "cell_type": "code",
   "execution_count": 17,
   "id": "181c0172-5576-4d0a-b192-4b675838f17a",
   "metadata": {},
   "outputs": [],
   "source": [
    "myq = q.Queue()"
   ]
  },
  {
   "cell_type": "code",
   "execution_count": 18,
   "id": "ab1bc029-e5fc-4057-a894-8ab5cd6476a4",
   "metadata": {},
   "outputs": [
    {
     "data": {
      "text/plain": [
       "{'maxsize': 0,\n",
       " 'queue': deque([]),\n",
       " 'mutex': <unlocked _thread.lock object at 0x7f7a2408a210>,\n",
       " 'not_empty': <Condition(<unlocked _thread.lock object at 0x7f7a2408a210>, 0)>,\n",
       " 'not_full': <Condition(<unlocked _thread.lock object at 0x7f7a2408a210>, 0)>,\n",
       " 'all_tasks_done': <Condition(<unlocked _thread.lock object at 0x7f7a2408a210>, 0)>,\n",
       " 'unfinished_tasks': 0}"
      ]
     },
     "execution_count": 18,
     "metadata": {},
     "output_type": "execute_result"
    }
   ],
   "source": [
    "myq.__dict__"
   ]
  },
  {
   "cell_type": "code",
   "execution_count": 19,
   "id": "1913bb0c-9a20-4a55-b875-ac09cfa5c7a4",
   "metadata": {},
   "outputs": [],
   "source": [
    "# we have to define the maxsize while creating the queue\n",
    "myq1 = q.Queue(maxsize=5)"
   ]
  },
  {
   "cell_type": "code",
   "execution_count": 20,
   "id": "99e47139-e8eb-4552-8f9b-d08fd2178d7c",
   "metadata": {},
   "outputs": [
    {
     "data": {
      "text/plain": [
       "{'maxsize': 5,\n",
       " 'queue': deque([]),\n",
       " 'mutex': <unlocked _thread.lock object at 0x7f7a240971b0>,\n",
       " 'not_empty': <Condition(<unlocked _thread.lock object at 0x7f7a240971b0>, 0)>,\n",
       " 'not_full': <Condition(<unlocked _thread.lock object at 0x7f7a240971b0>, 0)>,\n",
       " 'all_tasks_done': <Condition(<unlocked _thread.lock object at 0x7f7a240971b0>, 0)>,\n",
       " 'unfinished_tasks': 0}"
      ]
     },
     "execution_count": 20,
     "metadata": {},
     "output_type": "execute_result"
    }
   ],
   "source": [
    "myq1.__dict__"
   ]
  },
  {
   "cell_type": "code",
   "execution_count": 21,
   "id": "75368a6d-e06b-4962-bb31-d7b0e6b831ea",
   "metadata": {},
   "outputs": [],
   "source": [
    "myq1.put(\"Prateek\")"
   ]
  },
  {
   "cell_type": "code",
   "execution_count": 22,
   "id": "46b63fea-83c3-4c88-8378-0b9068d365f7",
   "metadata": {},
   "outputs": [],
   "source": [
    "myq1.put(\"Bhavna\")"
   ]
  },
  {
   "cell_type": "code",
   "execution_count": 23,
   "id": "b27f6351-c6ef-4a80-a29b-815a391a7123",
   "metadata": {},
   "outputs": [
    {
     "data": {
      "text/plain": [
       "{'maxsize': 5,\n",
       " 'queue': deque(['Prateek', 'Bhavna']),\n",
       " 'mutex': <unlocked _thread.lock object at 0x7f7a240971b0>,\n",
       " 'not_empty': <Condition(<unlocked _thread.lock object at 0x7f7a240971b0>, 0)>,\n",
       " 'not_full': <Condition(<unlocked _thread.lock object at 0x7f7a240971b0>, 0)>,\n",
       " 'all_tasks_done': <Condition(<unlocked _thread.lock object at 0x7f7a240971b0>, 0)>,\n",
       " 'unfinished_tasks': 2}"
      ]
     },
     "execution_count": 23,
     "metadata": {},
     "output_type": "execute_result"
    }
   ],
   "source": [
    "myq1.__dict__"
   ]
  },
  {
   "cell_type": "code",
   "execution_count": 24,
   "id": "837b2777-2d4b-4e5a-a77d-bf9611b223be",
   "metadata": {},
   "outputs": [
    {
     "data": {
      "text/plain": [
       "'Prateek'"
      ]
     },
     "execution_count": 24,
     "metadata": {},
     "output_type": "execute_result"
    }
   ],
   "source": [
    "myq1.get()"
   ]
  },
  {
   "cell_type": "code",
   "execution_count": 25,
   "id": "8925f439-d906-4a1c-ae2a-fe875565091b",
   "metadata": {},
   "outputs": [
    {
     "data": {
      "text/plain": [
       "False"
      ]
     },
     "execution_count": 25,
     "metadata": {},
     "output_type": "execute_result"
    }
   ],
   "source": [
    "myq1.full()"
   ]
  },
  {
   "cell_type": "code",
   "execution_count": 26,
   "id": "13b1df5c-a8d9-4937-a4f5-2a302e363161",
   "metadata": {},
   "outputs": [
    {
     "data": {
      "text/plain": [
       "1"
      ]
     },
     "execution_count": 26,
     "metadata": {},
     "output_type": "execute_result"
    }
   ],
   "source": [
    "myq1.qsize()"
   ]
  },
  {
   "cell_type": "code",
   "execution_count": 27,
   "id": "f159f24b-b518-4d0d-a647-ecbfe8f9b2ab",
   "metadata": {},
   "outputs": [],
   "source": [
    "# deque for creating queue\n",
    "from collections import deque"
   ]
  },
  {
   "cell_type": "code",
   "execution_count": 28,
   "id": "3cc82000-d653-4de2-8487-07f9c120709a",
   "metadata": {},
   "outputs": [],
   "source": [
    "q1 = deque(maxlen=4)"
   ]
  },
  {
   "cell_type": "code",
   "execution_count": 29,
   "id": "cf85cb93-1bf9-4ec1-ad1c-7e2574f38897",
   "metadata": {},
   "outputs": [],
   "source": [
    "q1.append(3)"
   ]
  },
  {
   "cell_type": "code",
   "execution_count": 30,
   "id": "1715b670-958e-41a1-b779-a45e06f9c379",
   "metadata": {},
   "outputs": [
    {
     "data": {
      "text/plain": [
       "3"
      ]
     },
     "execution_count": 30,
     "metadata": {},
     "output_type": "execute_result"
    }
   ],
   "source": [
    "q1.popleft()"
   ]
  },
  {
   "cell_type": "code",
   "execution_count": null,
   "id": "72a83d41-725d-45c8-a509-4db57acf9d2b",
   "metadata": {},
   "outputs": [],
   "source": []
  },
  {
   "cell_type": "code",
   "execution_count": 31,
   "id": "cf38776d-0e71-4b92-bb0d-dc2b9ca0d048",
   "metadata": {},
   "outputs": [],
   "source": [
    "from multiprocessing import Queue"
   ]
  },
  {
   "cell_type": "code",
   "execution_count": 32,
   "id": "a92b531b-a9f0-4532-8c32-10b76ca2a7c1",
   "metadata": {},
   "outputs": [],
   "source": [
    "q3 = Queue(maxsize=3)"
   ]
  },
  {
   "cell_type": "code",
   "execution_count": 33,
   "id": "8ad49e71-5869-4624-b254-3b8d4937bf83",
   "metadata": {},
   "outputs": [],
   "source": [
    "q3.put(\"Prateei\")"
   ]
  },
  {
   "cell_type": "code",
   "execution_count": 34,
   "id": "94d21524-5128-40c6-892c-4dfef68eb607",
   "metadata": {},
   "outputs": [],
   "source": [
    "q3.put(\"Bhavna\")"
   ]
  },
  {
   "cell_type": "code",
   "execution_count": 35,
   "id": "a79b6575-c1c2-4b1f-afa5-664d598f9991",
   "metadata": {},
   "outputs": [],
   "source": [
    "q3.put(\"shilpy\")"
   ]
  },
  {
   "cell_type": "code",
   "execution_count": 36,
   "id": "82d3592f-59da-4019-aae8-9b0af972de74",
   "metadata": {},
   "outputs": [
    {
     "data": {
      "text/plain": [
       "'Prateei'"
      ]
     },
     "execution_count": 36,
     "metadata": {},
     "output_type": "execute_result"
    }
   ],
   "source": [
    "q3.get()"
   ]
  },
  {
   "cell_type": "code",
   "execution_count": 37,
   "id": "f919e6a3-e62f-4923-a57f-4ed95a03d4af",
   "metadata": {},
   "outputs": [
    {
     "data": {
      "text/plain": [
       "False"
      ]
     },
     "execution_count": 37,
     "metadata": {},
     "output_type": "execute_result"
    }
   ],
   "source": [
    "q3.full()"
   ]
  },
  {
   "cell_type": "code",
   "execution_count": 38,
   "id": "3b702422-3e9a-4baf-a606-408c633a001d",
   "metadata": {},
   "outputs": [
    {
     "data": {
      "text/plain": [
       "'Bhavna'"
      ]
     },
     "execution_count": 38,
     "metadata": {},
     "output_type": "execute_result"
    }
   ],
   "source": [
    "q3.get()"
   ]
  },
  {
   "cell_type": "code",
   "execution_count": 39,
   "id": "a946afa3-fd24-482c-b5ec-9f4e7222c1f9",
   "metadata": {},
   "outputs": [
    {
     "data": {
      "text/plain": [
       "'shilpy'"
      ]
     },
     "execution_count": 39,
     "metadata": {},
     "output_type": "execute_result"
    }
   ],
   "source": [
    "q3.get()"
   ]
  },
  {
   "cell_type": "code",
   "execution_count": 40,
   "id": "de59fb75-a82f-4a7e-8d81-c0cf70a71c62",
   "metadata": {},
   "outputs": [
    {
     "data": {
      "text/plain": [
       "False"
      ]
     },
     "execution_count": 40,
     "metadata": {},
     "output_type": "execute_result"
    }
   ],
   "source": [
    "q3.full()"
   ]
  },
  {
   "cell_type": "code",
   "execution_count": null,
   "id": "bf3a5897-538a-4d9e-8551-0ee163adb338",
   "metadata": {},
   "outputs": [],
   "source": []
  },
  {
   "cell_type": "code",
   "execution_count": null,
   "id": "fc4c69c8-1397-4e98-bde2-854fc711c586",
   "metadata": {},
   "outputs": [],
   "source": []
  }
 ],
 "metadata": {
  "kernelspec": {
   "display_name": "Python 3",
   "language": "python",
   "name": "python3"
  },
  "language_info": {
   "codemirror_mode": {
    "name": "ipython",
    "version": 3
   },
   "file_extension": ".py",
   "mimetype": "text/x-python",
   "name": "python",
   "nbconvert_exporter": "python",
   "pygments_lexer": "ipython3",
   "version": "3.9.4"
  }
 },
 "nbformat": 4,
 "nbformat_minor": 5
}
