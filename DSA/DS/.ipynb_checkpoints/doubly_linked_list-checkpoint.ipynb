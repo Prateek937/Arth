{
 "cells": [
  {
   "cell_type": "code",
   "execution_count": 1,
   "id": "17b962de-548d-4f92-bd8b-c15618a3e878",
   "metadata": {},
   "outputs": [],
   "source": [
    "# CLASS FOR DOUBLY LINKED LIST\n",
    "class SLNode:\n",
    "    def __init__(self, v):\n",
    "        self.value = v\n",
    "        self.nextnode = None\n",
    "        "
   ]
  },
  {
   "cell_type": "code",
   "execution_count": null,
   "id": "eb77fb83-9110-4b2a-832b-556a9a6e4acc",
   "metadata": {},
   "outputs": [],
   "source": []
  }
 ],
 "metadata": {
  "kernelspec": {
   "display_name": "Python 3",
   "language": "python",
   "name": "python3"
  },
  "language_info": {
   "codemirror_mode": {
    "name": "ipython",
    "version": 3
   },
   "file_extension": ".py",
   "mimetype": "text/x-python",
   "name": "python",
   "nbconvert_exporter": "python",
   "pygments_lexer": "ipython3",
   "version": "3.9.4"
  }
 },
 "nbformat": 4,
 "nbformat_minor": 5
}
