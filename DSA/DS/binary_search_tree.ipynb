{
 "cells": [
  {
   "cell_type": "code",
   "execution_count": 16,
   "id": "3dd52728-4416-4b5d-849a-569ca255bbcb",
   "metadata": {},
   "outputs": [],
   "source": [
    "class BSTNode:\n",
    "    def __init__(self, data):\n",
    "        self.data = data\n",
    "        self.leftChild = None\n",
    "        self.rightChild = None"
   ]
  },
  {
   "cell_type": "code",
   "execution_count": 28,
   "id": "48f081ec-b506-48c3-afd0-13906f8223bd",
   "metadata": {},
   "outputs": [],
   "source": [
    "# rootNode == Tree address\n",
    "def insertNode(rootNode, nodeValue):\n",
    "    if rootNode.data == None:\n",
    "        rootNode.data = nodeValue\n",
    "        return \"Root node created..\"\n",
    "    elif nodeValue <= rootNode.data:\n",
    "        # create node in left child\n",
    "        if rootNode.leftChild is None:\n",
    "            rootNode.leftChild = BSTNode(nodeValue)\n",
    "            # make the nodevalue as left child\n",
    "            return \"Inserted on left..\"\n",
    "        else:\n",
    "            insertNode(rootNode.leftChild, nodeValue)\n",
    "            return \"left Node created..\"\n",
    "    else:\n",
    "        # create node in right child\n",
    "        if rootNode.rightChild is None:\n",
    "            # make the nodevalue as left child\n",
    "            rootNode.rightChild = BSTNode(nodeValue)\n",
    "            return \"Inserted on right..\"\n",
    "        else:\n",
    "            insertNode(rootNode.rightChild, nodeValue)\n",
    "            return \"Right Node created..\"\n",
    "    "
   ]
  },
  {
   "cell_type": "code",
   "execution_count": 29,
   "id": "b9de87a3-740d-456c-ac18-724f488b5f6d",
   "metadata": {},
   "outputs": [],
   "source": [
    "newRoot = BSTNode(None)"
   ]
  },
  {
   "cell_type": "code",
   "execution_count": 30,
   "id": "19525656-0740-47a4-bf15-817d74cc8992",
   "metadata": {},
   "outputs": [
    {
     "data": {
      "text/plain": [
       "'Root node created..'"
      ]
     },
     "execution_count": 30,
     "metadata": {},
     "output_type": "execute_result"
    }
   ],
   "source": [
    "insertNode(newRoot, 60)"
   ]
  },
  {
   "cell_type": "code",
   "execution_count": 31,
   "id": "c8ed5c4c-f45e-46f8-b703-2817f42b6788",
   "metadata": {},
   "outputs": [
    {
     "data": {
      "text/plain": [
       "'Inserted on right..'"
      ]
     },
     "execution_count": 31,
     "metadata": {},
     "output_type": "execute_result"
    }
   ],
   "source": [
    "insertNode(newRoot, 89)"
   ]
  },
  {
   "cell_type": "code",
   "execution_count": 32,
   "id": "d2a9b89f-65b4-4284-b25c-452da198fa1c",
   "metadata": {},
   "outputs": [
    {
     "data": {
      "text/plain": [
       "'Inserted on left..'"
      ]
     },
     "execution_count": 32,
     "metadata": {},
     "output_type": "execute_result"
    }
   ],
   "source": [
    "insertNode(newRoot, 40)"
   ]
  },
  {
   "cell_type": "code",
   "execution_count": 33,
   "id": "ec41f014-a719-48cc-a643-0997edd1886e",
   "metadata": {},
   "outputs": [
    {
     "data": {
      "text/plain": [
       "'left Node created..'"
      ]
     },
     "execution_count": 33,
     "metadata": {},
     "output_type": "execute_result"
    }
   ],
   "source": [
    "insertNode(newRoot, 30)"
   ]
  },
  {
   "cell_type": "code",
   "execution_count": 34,
   "id": "76f98120-ff94-4ec3-8f46-24191f6dd824",
   "metadata": {},
   "outputs": [
    {
     "data": {
      "text/plain": [
       "{'data': 60,\n",
       " 'leftChild': <__main__.BSTNode at 0x7f3d61047580>,\n",
       " 'rightChild': <__main__.BSTNode at 0x7f3d6104a040>}"
      ]
     },
     "execution_count": 34,
     "metadata": {},
     "output_type": "execute_result"
    }
   ],
   "source": [
    "newRoot.__dict__"
   ]
  },
  {
   "cell_type": "code",
   "execution_count": 35,
   "id": "4e14bf42-82ac-4f4d-b34f-e7099b3ebe67",
   "metadata": {},
   "outputs": [
    {
     "data": {
      "text/plain": [
       "{'data': 40,\n",
       " 'leftChild': <__main__.BSTNode at 0x7f3d61047a00>,\n",
       " 'rightChild': None}"
      ]
     },
     "execution_count": 35,
     "metadata": {},
     "output_type": "execute_result"
    }
   ],
   "source": [
    "newRoot.leftChild.__dict__"
   ]
  },
  {
   "cell_type": "code",
   "execution_count": 36,
   "id": "547d611e-4b2d-4de6-b5ed-c7715e342146",
   "metadata": {},
   "outputs": [
    {
     "data": {
      "text/plain": [
       "30"
      ]
     },
     "execution_count": 36,
     "metadata": {},
     "output_type": "execute_result"
    }
   ],
   "source": [
    "newRoot.leftChild.leftChild.data"
   ]
  },
  {
   "cell_type": "code",
   "execution_count": null,
   "id": "e0670954-826b-446c-9064-ead53ee6db3b",
   "metadata": {},
   "outputs": [],
   "source": []
  }
 ],
 "metadata": {
  "kernelspec": {
   "display_name": "Python 3",
   "language": "python",
   "name": "python3"
  },
  "language_info": {
   "codemirror_mode": {
    "name": "ipython",
    "version": 3
   },
   "file_extension": ".py",
   "mimetype": "text/x-python",
   "name": "python",
   "nbconvert_exporter": "python",
   "pygments_lexer": "ipython3",
   "version": "3.9.4"
  }
 },
 "nbformat": 4,
 "nbformat_minor": 5
}
