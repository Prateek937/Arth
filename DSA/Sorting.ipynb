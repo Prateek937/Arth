{
 "cells": [
  {
   "cell_type": "code",
   "execution_count": 1,
   "metadata": {},
   "outputs": [],
   "source": [
    "db = [1, 2, 5,2,7,3,4,6,2]"
   ]
  },
  {
   "cell_type": "code",
   "execution_count": 2,
   "metadata": {},
   "outputs": [],
   "source": [
    "def bubble_sort(db):\n",
    "    n = len(db) \n",
    "  \n",
    "    # Traverse through all array elements \n",
    "    for i in range(n-1): \n",
    "    # range(n) also work but outer loop will repeat one time more than needed. \n",
    "  \n",
    "        # Last i elements are already in place \n",
    "        for j in range(0, n-i-1): \n",
    "  \n",
    "            # traverse the array from 0 to n-i-1 \n",
    "            # Swap if the element found is greater \n",
    "            # than the next element \n",
    "            if db[j] > db[j+1] : \n",
    "                db[j], db[j+1] = db[j+1], db[j] \n",
    "    return db"
   ]
  },
  {
   "cell_type": "code",
   "execution_count": 3,
   "metadata": {},
   "outputs": [],
   "source": [
    "def selection_sort(db):\n",
    "    '''\n",
    "    selection/picking only minimum value: increasing order\n",
    "    - Time complexity must be n*n that is O(n^2)\n",
    "    - Space Complexity 1\n",
    "    '''\n",
    "    for i in range(len(db)): # this will run n times\n",
    "        min_val = i\n",
    "        for j in range(i+1, len(db)): #this will run n times\n",
    "            if db[min_val] > db[j]:\n",
    "                   min_val = j\n",
    "        db[i], db[min_val] = db[min_val], db[i]\n",
    "    return db"
   ]
  },
  {
   "cell_type": "code",
   "execution_count": 4,
   "metadata": {},
   "outputs": [
    {
     "data": {
      "text/plain": [
       "[1, 2, 2, 2, 3, 4, 5, 6, 7]"
      ]
     },
     "execution_count": 4,
     "metadata": {},
     "output_type": "execute_result"
    }
   ],
   "source": [
    "bubble_sort(db)"
   ]
  },
  {
   "cell_type": "code",
   "execution_count": 5,
   "metadata": {},
   "outputs": [
    {
     "data": {
      "text/plain": [
       "[1, 2, 2, 2, 3, 4, 5, 6, 7]"
      ]
     },
     "execution_count": 5,
     "metadata": {},
     "output_type": "execute_result"
    }
   ],
   "source": [
    "selection_sort(db)"
   ]
  },
  {
   "cell_type": "code",
   "execution_count": null,
   "metadata": {},
   "outputs": [],
   "source": []
  },
  {
   "cell_type": "code",
   "execution_count": 20,
   "metadata": {},
   "outputs": [],
   "source": [
    "class lwsort:\n",
    "    \n",
    "    def __init__(self, data):\n",
    "        self.data = data\n",
    "    \n",
    "    def bubble_sort(self):\n",
    "        n = len(self.data) \n",
    "  \n",
    "        # Traverse through all array elements \n",
    "        for i in range(n-1): \n",
    "        # range(n) also work but outer loop will repeat one time more than needed. \n",
    "  \n",
    "            # Last i elements are already in place \n",
    "            for j in range(0, n-i-1): \n",
    "  \n",
    "                # traverse the array from 0 to n-i-1 \n",
    "                # Swap if the element found is greater \n",
    "                # than the next element \n",
    "                if self.data[j] > self.data[j+1] : \n",
    "                    self.data[j], self.data[j+1] = self.data[j+1], self.data[j] \n",
    "        return self.data\n",
    "    \n",
    "    def insertion_sort(self):\n",
    "        for i in range(1, len(self.data)):\n",
    "            position = i\n",
    "            currentvalue = self.data[i]\n",
    "            \n",
    "            #shifting value to right if current value is less than previous\n",
    "            while position > 0 and self.data[position - 1] > currentvalue:\n",
    "                self.data[position] = self.data[position - 1]\n",
    "                position = position - 1\n",
    "            \n",
    "            # inserting \n",
    "            self.data[position] = currentvalue\n",
    "            \n",
    "        return self.data"
   ]
  },
  {
   "cell_type": "code",
   "execution_count": 21,
   "metadata": {},
   "outputs": [],
   "source": [
    "team1 = lwsort([1,3,6,34,7,78,4,47,2])"
   ]
  },
  {
   "cell_type": "code",
   "execution_count": 22,
   "metadata": {},
   "outputs": [
    {
     "data": {
      "text/plain": [
       "[1, 2, 3, 4, 6, 7, 34, 47, 78]"
      ]
     },
     "execution_count": 22,
     "metadata": {},
     "output_type": "execute_result"
    }
   ],
   "source": [
    "team1.insertion_sort()"
   ]
  },
  {
   "cell_type": "code",
   "execution_count": null,
   "metadata": {},
   "outputs": [],
   "source": []
  }
 ],
 "metadata": {
  "kernelspec": {
   "display_name": "Python 3",
   "language": "python",
   "name": "python3"
  },
  "language_info": {
   "codemirror_mode": {
    "name": "ipython",
    "version": 3
   },
   "file_extension": ".py",
   "mimetype": "text/x-python",
   "name": "python",
   "nbconvert_exporter": "python",
   "pygments_lexer": "ipython3",
   "version": "3.9.1"
  }
 },
 "nbformat": 4,
 "nbformat_minor": 4
}
