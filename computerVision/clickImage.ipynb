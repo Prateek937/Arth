{
 "metadata": {
  "language_info": {
   "codemirror_mode": {
    "name": "ipython",
    "version": 3
   },
   "file_extension": ".py",
   "mimetype": "text/x-python",
   "name": "python",
   "nbconvert_exporter": "python",
   "pygments_lexer": "ipython3",
   "version": "3.9.5"
  },
  "orig_nbformat": 2,
  "kernelspec": {
   "name": "python3",
   "display_name": "Python 3",
   "language": "python"
  }
 },
 "nbformat": 4,
 "nbformat_minor": 2,
 "cells": [
  {
   "cell_type": "code",
   "execution_count": 1,
   "metadata": {},
   "outputs": [],
   "source": [
    "import cv2"
   ]
  },
  {
   "cell_type": "code",
   "execution_count": 2,
   "metadata": {},
   "outputs": [],
   "source": [
    "# for using the camera\n",
    "cap = cv2.VideoCapture(0)"
   ]
  },
  {
   "cell_type": "code",
   "execution_count": 3,
   "metadata": {},
   "outputs": [],
   "source": [
    "# cap.read() returns return value and the image\n",
    "ret, photo = cap.read()"
   ]
  },
  {
   "cell_type": "code",
   "execution_count": 4,
   "metadata": {},
   "outputs": [],
   "source": [
    "# release the camera. \n",
    "cap.release()"
   ]
  },
  {
   "cell_type": "code",
   "execution_count": 5,
   "metadata": {},
   "outputs": [
    {
     "output_type": "execute_result",
     "data": {
      "text/plain": [
       "array([[[198, 193, 189],\n",
       "        [196, 190, 187],\n",
       "        [195, 189, 185],\n",
       "        ...,\n",
       "        [178, 172, 171],\n",
       "        [178, 172, 171],\n",
       "        [177, 171, 170]],\n",
       "\n",
       "       [[197, 191, 188],\n",
       "        [196, 190, 187],\n",
       "        [196, 190, 187],\n",
       "        ...,\n",
       "        [179, 174, 170],\n",
       "        [179, 174, 170],\n",
       "        [178, 173, 169]],\n",
       "\n",
       "       [[197, 191, 188],\n",
       "        [197, 191, 188],\n",
       "        [197, 191, 188],\n",
       "        ...,\n",
       "        [179, 175, 171],\n",
       "        [179, 175, 171],\n",
       "        [177, 174, 170]],\n",
       "\n",
       "       ...,\n",
       "\n",
       "       [[179, 172, 173],\n",
       "        [178, 171, 172],\n",
       "        [177, 170, 171],\n",
       "        ...,\n",
       "        [ 61,  75, 102],\n",
       "        [ 62,  74,  99],\n",
       "        [ 61,  73,  98]],\n",
       "\n",
       "       [[179, 170, 171],\n",
       "        [178, 168, 170],\n",
       "        [178, 168, 170],\n",
       "        ...,\n",
       "        [ 64,  76, 103],\n",
       "        [ 64,  76, 103],\n",
       "        [ 62,  73, 101]],\n",
       "\n",
       "       [[177, 167, 169],\n",
       "        [177, 167, 169],\n",
       "        [176, 167, 166],\n",
       "        ...,\n",
       "        [ 64,  76, 103],\n",
       "        [ 63,  74, 102],\n",
       "        [ 61,  72, 100]]], dtype=uint8)"
      ]
     },
     "metadata": {},
     "execution_count": 5
    }
   ],
   "source": [
    "photo"
   ]
  },
  {
   "cell_type": "code",
   "execution_count": 6,
   "metadata": {},
   "outputs": [
    {
     "output_type": "execute_result",
     "data": {
      "text/plain": [
       "True"
      ]
     },
     "metadata": {},
     "execution_count": 6
    }
   ],
   "source": [
    "ret"
   ]
  },
  {
   "cell_type": "code",
   "execution_count": 7,
   "metadata": {},
   "outputs": [
    {
     "output_type": "execute_result",
     "data": {
      "text/plain": [
       "True"
      ]
     },
     "metadata": {},
     "execution_count": 7
    }
   ],
   "source": [
    "# save the image\n",
    "cv2.imwrite(\"myphoto.jpg\", photo)"
   ]
  },
  {
   "cell_type": "code",
   "execution_count": 11,
   "metadata": {},
   "outputs": [],
   "source": [
    "# to open the photo\n",
    "cv2.imshow(\"myphoto\", photo)\n",
    "\n",
    "# don't pass anything for opening for forever\n",
    "cv2.waitKey()\n",
    "# to prevent the program from crashing\n",
    "# to close the window, click on the image and press enter.\n",
    "cv2.destroyAllWindows()"
   ]
  },
  {
   "cell_type": "code",
   "execution_count": null,
   "metadata": {},
   "outputs": [],
   "source": []
  },
  {
   "cell_type": "code",
   "execution_count": null,
   "metadata": {},
   "outputs": [],
   "source": []
  },
  {
   "cell_type": "code",
   "execution_count": null,
   "metadata": {},
   "outputs": [],
   "source": []
  },
  {
   "cell_type": "code",
   "execution_count": null,
   "metadata": {},
   "outputs": [],
   "source": []
  },
  {
   "cell_type": "code",
   "execution_count": null,
   "metadata": {},
   "outputs": [],
   "source": []
  }
 ]
}