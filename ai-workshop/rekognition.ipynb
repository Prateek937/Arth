{
 "cells": [
  {
   "cell_type": "code",
   "execution_count": 95,
   "id": "41b6aa31",
   "metadata": {},
   "outputs": [],
   "source": [
    "# TAKING PICTURE FROM THE WEBCAM\n",
    "import cv2\n",
    "\n",
    "# enables the camera\n",
    "capture = cv2.VideoCapture(-1)"
   ]
  },
  {
   "cell_type": "code",
   "execution_count": 96,
   "id": "476ddd39",
   "metadata": {},
   "outputs": [],
   "source": [
    "myPhoto = 'prateek.jpg'\n",
    "#reads the phot and returns bits and return code\n",
    "ret, photo = capture.read()"
   ]
  },
  {
   "cell_type": "code",
   "execution_count": 97,
   "id": "7a09bf04",
   "metadata": {},
   "outputs": [
    {
     "data": {
      "text/plain": [
       "True"
      ]
     },
     "execution_count": 97,
     "metadata": {},
     "output_type": "execute_result"
    }
   ],
   "source": [
    "ret"
   ]
  },
  {
   "cell_type": "code",
   "execution_count": 98,
   "id": "17e66911",
   "metadata": {
    "scrolled": true
   },
   "outputs": [
    {
     "data": {
      "text/plain": [
       "array([[[172, 166, 169],\n",
       "        [172, 166, 169],\n",
       "        [172, 165, 171],\n",
       "        ...,\n",
       "        [126, 121, 124],\n",
       "        [118, 123, 122],\n",
       "        [117, 122, 121]],\n",
       "\n",
       "       [[170, 166, 169],\n",
       "        [170, 166, 169],\n",
       "        [171, 168, 170],\n",
       "        ...,\n",
       "        [126, 118, 121],\n",
       "        [120, 120, 120],\n",
       "        [119, 119, 119]],\n",
       "\n",
       "       [[171, 168, 170],\n",
       "        [171, 168, 170],\n",
       "        [172, 169, 172],\n",
       "        ...,\n",
       "        [120, 113, 114],\n",
       "        [116, 111, 112],\n",
       "        [115, 110, 111]],\n",
       "\n",
       "       ...,\n",
       "\n",
       "       [[100, 102, 108],\n",
       "        [100, 102, 108],\n",
       "        [ 99, 103, 111],\n",
       "        ...,\n",
       "        [ 73, 140, 184],\n",
       "        [ 74, 142, 183],\n",
       "        [ 74, 142, 183]],\n",
       "\n",
       "       [[ 96, 101, 107],\n",
       "        [ 98, 102, 108],\n",
       "        [ 99, 103, 111],\n",
       "        ...,\n",
       "        [ 73, 140, 184],\n",
       "        [ 74, 142, 183],\n",
       "        [ 74, 142, 183]],\n",
       "\n",
       "       [[ 98, 102, 108],\n",
       "        [ 99, 103, 110],\n",
       "        [ 99, 103, 111],\n",
       "        ...,\n",
       "        [ 72, 140, 181],\n",
       "        [ 73, 141, 182],\n",
       "        [ 74, 142, 183]]], dtype=uint8)"
      ]
     },
     "execution_count": 98,
     "metadata": {},
     "output_type": "execute_result"
    }
   ],
   "source": [
    "photo"
   ]
  },
  {
   "cell_type": "code",
   "execution_count": 99,
   "id": "3dcf21c4",
   "metadata": {},
   "outputs": [
    {
     "data": {
      "text/plain": [
       "True"
      ]
     },
     "execution_count": 99,
     "metadata": {},
     "output_type": "execute_result"
    }
   ],
   "source": [
    "# writes the bites to file\n",
    "cv2.imwrite(myPhoto, photo)"
   ]
  },
  {
   "cell_type": "code",
   "execution_count": 100,
   "id": "a941b4ad",
   "metadata": {},
   "outputs": [],
   "source": [
    "#release the camera\n",
    "capture.release()"
   ]
  },
  {
   "cell_type": "code",
   "execution_count": 101,
   "id": "6371a86c",
   "metadata": {},
   "outputs": [],
   "source": [
    "# UPLOADING TO AMAZON S3 BUCKET\n",
    "import boto3\n",
    "\n",
    "s3 = boto3.resource(\"s3\")"
   ]
  },
  {
   "cell_type": "code",
   "execution_count": 102,
   "id": "c94aa1bd",
   "metadata": {},
   "outputs": [],
   "source": [
    "# access the bucket\n",
    "my_bucket = s3.Bucket('prateeknewbucket')"
   ]
  },
  {
   "cell_type": "code",
   "execution_count": 103,
   "id": "fedabea0",
   "metadata": {},
   "outputs": [
    {
     "name": "stdout",
     "output_type": "stream",
     "text": [
      "s3.ObjectSummary(bucket_name='prateeknewbucket', key='20180628_202806.jpg')\n",
      "s3.ObjectSummary(bucket_name='prateeknewbucket', key='rek.jpg')\n"
     ]
    }
   ],
   "source": [
    "# list all the objects in the bucket\n",
    "for my_bucket_object in my_bucket.objects.all():\n",
    "    print(my_bucket_object)"
   ]
  },
  {
   "cell_type": "code",
   "execution_count": 104,
   "id": "646e4138",
   "metadata": {},
   "outputs": [],
   "source": [
    "# uploat the image to the bucket\n",
    "upload_image = 'rek.jpg'\n",
    "bucket = 'prateeknewbucket'\n",
    "s3.Bucket(bucket).upload_file(myPhoto , upload_image)"
   ]
  },
  {
   "cell_type": "code",
   "execution_count": 105,
   "id": "c056ce6e",
   "metadata": {},
   "outputs": [],
   "source": [
    "# creating the client for rekognition\n",
    "region = 'ap-south-1'\n",
    "rek = boto3.client('rekognition', region)"
   ]
  },
  {
   "cell_type": "code",
   "execution_count": 106,
   "id": "dbeb328e",
   "metadata": {},
   "outputs": [],
   "source": [
    "# Object and Scene Detection\n",
    "# fetching the object from s3 and analysing\n",
    "response = rek.detect_labels(\n",
    "    Image = {\n",
    "            'S3Object':{\n",
    "                'Bucket': bucket,\n",
    "                'Name': upload_image,\n",
    "            }\n",
    "    },\n",
    "    MaxLabels=10,\n",
    "    MinConfidence=60\n",
    ")"
   ]
  },
  {
   "cell_type": "code",
   "execution_count": 107,
   "id": "3926e4b2",
   "metadata": {
    "scrolled": true
   },
   "outputs": [
    {
     "data": {
      "text/plain": [
       "{'Labels': [{'Name': 'Face',\n",
       "   'Confidence': 99.7151870727539,\n",
       "   'Instances': [],\n",
       "   'Parents': [{'Name': 'Person'}]},\n",
       "  {'Name': 'Person',\n",
       "   'Confidence': 99.7151870727539,\n",
       "   'Instances': [{'BoundingBox': {'Width': 0.8256145715713501,\n",
       "      'Height': 0.921861469745636,\n",
       "      'Left': 0.16246390342712402,\n",
       "      'Top': 0.054043833166360855},\n",
       "     'Confidence': 99.56011199951172}],\n",
       "   'Parents': []},\n",
       "  {'Name': 'Man',\n",
       "   'Confidence': 92.59078216552734,\n",
       "   'Instances': [],\n",
       "   'Parents': [{'Name': 'Person'}]},\n",
       "  {'Name': 'Smile',\n",
       "   'Confidence': 83.72515869140625,\n",
       "   'Instances': [],\n",
       "   'Parents': [{'Name': 'Face'}, {'Name': 'Person'}]},\n",
       "  {'Name': 'Portrait',\n",
       "   'Confidence': 83.64909362792969,\n",
       "   'Instances': [],\n",
       "   'Parents': [{'Name': 'Face'}, {'Name': 'Photography'}, {'Name': 'Person'}]},\n",
       "  {'Name': 'Photography',\n",
       "   'Confidence': 83.64909362792969,\n",
       "   'Instances': [],\n",
       "   'Parents': [{'Name': 'Person'}]},\n",
       "  {'Name': 'Clothing',\n",
       "   'Confidence': 73.2695083618164,\n",
       "   'Instances': [],\n",
       "   'Parents': []},\n",
       "  {'Name': 'Selfie',\n",
       "   'Confidence': 72.0673828125,\n",
       "   'Instances': [],\n",
       "   'Parents': [{'Name': 'Portrait'},\n",
       "    {'Name': 'Face'},\n",
       "    {'Name': 'Photography'},\n",
       "    {'Name': 'Person'}]},\n",
       "  {'Name': 'Electronics',\n",
       "   'Confidence': 69.47530364990234,\n",
       "   'Instances': [],\n",
       "   'Parents': []},\n",
       "  {'Name': 'Teeth',\n",
       "   'Confidence': 65.09002685546875,\n",
       "   'Instances': [],\n",
       "   'Parents': []}],\n",
       " 'LabelModelVersion': '2.0',\n",
       " 'ResponseMetadata': {'RequestId': '4c9847a6-7946-4ac1-92f2-76715bd02535',\n",
       "  'HTTPStatusCode': 200,\n",
       "  'HTTPHeaders': {'content-type': 'application/x-amz-json-1.1',\n",
       "   'date': 'Sat, 03 Apr 2021 17:23:02 GMT',\n",
       "   'x-amzn-requestid': '4c9847a6-7946-4ac1-92f2-76715bd02535',\n",
       "   'content-length': '1180',\n",
       "   'connection': 'keep-alive'},\n",
       "  'RetryAttempts': 0}}"
      ]
     },
     "execution_count": 107,
     "metadata": {},
     "output_type": "execute_result"
    }
   ],
   "source": [
    "response"
   ]
  },
  {
   "cell_type": "code",
   "execution_count": 108,
   "id": "4bd80bbf",
   "metadata": {},
   "outputs": [
    {
     "name": "stdout",
     "output_type": "stream",
     "text": [
      "Face\n",
      "Person\n",
      "Man\n",
      "Smile\n",
      "Portrait\n",
      "Photography\n",
      "Clothing\n",
      "Selfie\n",
      "Electronics\n",
      "Teeth\n"
     ]
    }
   ],
   "source": [
    "# printing all the labels above 80% confidence\n",
    "for i in range(len(response['Labels'])):\n",
    "    print ( response['Labels'][i]['Name'] )"
   ]
  },
  {
   "cell_type": "code",
   "execution_count": 109,
   "id": "18aae2dc",
   "metadata": {},
   "outputs": [],
   "source": [
    "# Facial Analysis\n",
    "resfaces = rek.detect_faces(\n",
    " Image={\n",
    "          'S3Object': {\n",
    "              'Bucket': bucket,\n",
    "              'Name': upload_image,\n",
    "          }\n",
    "      },\n",
    "   Attributes=['ALL']\n",
    "    \n",
    ")"
   ]
  },
  {
   "cell_type": "code",
   "execution_count": 110,
   "id": "653e2670",
   "metadata": {
    "scrolled": true
   },
   "outputs": [
    {
     "data": {
      "text/plain": [
       "{'FaceDetails': [{'BoundingBox': {'Width': 0.2956976890563965,\n",
       "    'Height': 0.5318981409072876,\n",
       "    'Left': 0.423196405172348,\n",
       "    'Top': 0.2149604856967926},\n",
       "   'AgeRange': {'Low': 22, 'High': 34},\n",
       "   'Smile': {'Value': True, 'Confidence': 98.96556091308594},\n",
       "   'Eyeglasses': {'Value': False, 'Confidence': 99.7980728149414},\n",
       "   'Sunglasses': {'Value': False, 'Confidence': 99.91218566894531},\n",
       "   'Gender': {'Value': 'Male', 'Confidence': 99.68081665039062},\n",
       "   'Beard': {'Value': True, 'Confidence': 90.43875122070312},\n",
       "   'Mustache': {'Value': False, 'Confidence': 78.68651580810547},\n",
       "   'EyesOpen': {'Value': True, 'Confidence': 99.78585815429688},\n",
       "   'MouthOpen': {'Value': True, 'Confidence': 99.58349609375},\n",
       "   'Emotions': [{'Type': 'HAPPY', 'Confidence': 98.62635040283203},\n",
       "    {'Type': 'SURPRISED', 'Confidence': 0.4535077214241028},\n",
       "    {'Type': 'FEAR', 'Confidence': 0.26924949884414673},\n",
       "    {'Type': 'DISGUSTED', 'Confidence': 0.15970763564109802},\n",
       "    {'Type': 'ANGRY', 'Confidence': 0.15226870775222778},\n",
       "    {'Type': 'CALM', 'Confidence': 0.15189163386821747},\n",
       "    {'Type': 'CONFUSED', 'Confidence': 0.13837672770023346},\n",
       "    {'Type': 'SAD', 'Confidence': 0.04864221066236496}],\n",
       "   'Landmarks': [{'Type': 'eyeLeft',\n",
       "     'X': 0.4878467917442322,\n",
       "     'Y': 0.4024275541305542},\n",
       "    {'Type': 'eyeRight', 'X': 0.621942400932312, 'Y': 0.385366827249527},\n",
       "    {'Type': 'mouthLeft', 'X': 0.5122846364974976, 'Y': 0.5877463221549988},\n",
       "    {'Type': 'mouthRight', 'X': 0.6243964433670044, 'Y': 0.5735724568367004},\n",
       "    {'Type': 'nose', 'X': 0.560706377029419, 'Y': 0.48689374327659607},\n",
       "    {'Type': 'leftEyeBrowLeft',\n",
       "     'X': 0.43523144721984863,\n",
       "     'Y': 0.36847400665283203},\n",
       "    {'Type': 'leftEyeBrowRight',\n",
       "     'X': 0.4720049798488617,\n",
       "     'Y': 0.3375408351421356},\n",
       "    {'Type': 'leftEyeBrowUp',\n",
       "     'X': 0.5112547278404236,\n",
       "     'Y': 0.3411109149456024},\n",
       "    {'Type': 'rightEyeBrowLeft',\n",
       "     'X': 0.5879045724868774,\n",
       "     'Y': 0.3312412202358246},\n",
       "    {'Type': 'rightEyeBrowRight',\n",
       "     'X': 0.6262310147285461,\n",
       "     'Y': 0.3177075684070587},\n",
       "    {'Type': 'rightEyeBrowUp',\n",
       "     'X': 0.6676258444786072,\n",
       "     'Y': 0.3385413885116577},\n",
       "    {'Type': 'leftEyeLeft', 'X': 0.4640420973300934, 'Y': 0.4056088328361511},\n",
       "    {'Type': 'leftEyeRight', 'X': 0.514367401599884, 'Y': 0.40098145604133606},\n",
       "    {'Type': 'leftEyeUp', 'X': 0.48665276169776917, 'Y': 0.392752081155777},\n",
       "    {'Type': 'leftEyeDown',\n",
       "     'X': 0.48895153403282166,\n",
       "     'Y': 0.41072654724121094},\n",
       "    {'Type': 'rightEyeLeft',\n",
       "     'X': 0.5952874422073364,\n",
       "     'Y': 0.39064842462539673},\n",
       "    {'Type': 'rightEyeRight',\n",
       "     'X': 0.6455048322677612,\n",
       "     'Y': 0.38244199752807617},\n",
       "    {'Type': 'rightEyeUp', 'X': 0.6211937665939331, 'Y': 0.3755740523338318},\n",
       "    {'Type': 'rightEyeDown', 'X': 0.6216317415237427, 'Y': 0.3937896490097046},\n",
       "    {'Type': 'noseLeft', 'X': 0.5374945402145386, 'Y': 0.5150622725486755},\n",
       "    {'Type': 'noseRight', 'X': 0.5869458913803101, 'Y': 0.5087303519248962},\n",
       "    {'Type': 'mouthUp', 'X': 0.5653485059738159, 'Y': 0.5555452704429626},\n",
       "    {'Type': 'mouthDown', 'X': 0.5694997906684875, 'Y': 0.6130762100219727},\n",
       "    {'Type': 'leftPupil', 'X': 0.4878467917442322, 'Y': 0.4024275541305542},\n",
       "    {'Type': 'rightPupil', 'X': 0.621942400932312, 'Y': 0.385366827249527},\n",
       "    {'Type': 'upperJawlineLeft',\n",
       "     'X': 0.4105947017669678,\n",
       "     'Y': 0.42684420943260193},\n",
       "    {'Type': 'midJawlineLeft',\n",
       "     'X': 0.45253634452819824,\n",
       "     'Y': 0.6237563490867615},\n",
       "    {'Type': 'chinBottom', 'X': 0.5770207047462463, 'Y': 0.7127777934074402},\n",
       "    {'Type': 'midJawlineRight',\n",
       "     'X': 0.6885141134262085,\n",
       "     'Y': 0.5933601260185242},\n",
       "    {'Type': 'upperJawlineRight',\n",
       "     'X': 0.7017638087272644,\n",
       "     'Y': 0.3892342448234558}],\n",
       "   'Pose': {'Roll': -5.1501240730285645,\n",
       "    'Yaw': 0.6972836256027222,\n",
       "    'Pitch': 7.602823257446289},\n",
       "   'Quality': {'Brightness': 53.44874954223633,\n",
       "    'Sharpness': 53.330047607421875},\n",
       "   'Confidence': 99.99018859863281}],\n",
       " 'ResponseMetadata': {'RequestId': 'fa50c794-fce8-4870-9bc5-323803f5154f',\n",
       "  'HTTPStatusCode': 200,\n",
       "  'HTTPHeaders': {'content-type': 'application/x-amz-json-1.1',\n",
       "   'date': 'Sat, 03 Apr 2021 17:23:03 GMT',\n",
       "   'x-amzn-requestid': 'fa50c794-fce8-4870-9bc5-323803f5154f',\n",
       "   'content-length': '3336',\n",
       "   'connection': 'keep-alive'},\n",
       "  'RetryAttempts': 0}}"
      ]
     },
     "execution_count": 110,
     "metadata": {},
     "output_type": "execute_result"
    }
   ],
   "source": [
    "resfaces"
   ]
  },
  {
   "cell_type": "code",
   "execution_count": 111,
   "id": "5c59bffc",
   "metadata": {},
   "outputs": [
    {
     "name": "stdout",
     "output_type": "stream",
     "text": [
      "Keep smiling!\n"
     ]
    }
   ],
   "source": [
    "if resfaces['FaceDetails'][0]['Smile']['Value'] == True:\n",
    "    print(\"Keep smiling!\")\n",
    "else:\n",
    "    print(\"Don't worry!,\\nEverything is okay.\")"
   ]
  },
  {
   "cell_type": "code",
   "execution_count": null,
   "id": "eb25867f",
   "metadata": {},
   "outputs": [],
   "source": []
  },
  {
   "cell_type": "code",
   "execution_count": null,
   "id": "4b040bc2",
   "metadata": {},
   "outputs": [],
   "source": []
  }
 ],
 "metadata": {
  "kernelspec": {
   "display_name": "Python 3",
   "language": "python",
   "name": "python3"
  },
  "language_info": {
   "codemirror_mode": {
    "name": "ipython",
    "version": 3
   },
   "file_extension": ".py",
   "mimetype": "text/x-python",
   "name": "python",
   "nbconvert_exporter": "python",
   "pygments_lexer": "ipython3",
   "version": "3.9.2"
  }
 },
 "nbformat": 4,
 "nbformat_minor": 5
}
